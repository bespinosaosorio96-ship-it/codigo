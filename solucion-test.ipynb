{
 "cells": [
  {
   "cell_type": "markdown",
   "id": "e5e1ba56",
   "metadata": {},
   "source": [
    "Simular un sistema de cajero automático que permita al usuario realizar operaciones básicas como consultar saldo, retirar dinero, depositar dinero y salir. Todo debe hacerse mediante el uso de funciones, condicionales y repetitivas.\n",
    "\n",
    "\n",
    "\n",
    "Requisitos:\n",
    "El programa inicia con un saldo inicial de $1000.\n",
    "Mostrar un menú con las siguientes opciones:\n",
    "Consultar saldo\n",
    "Depositar dinero\n",
    "Retirar dinero\n",
    "Salir\n",
    "El menú debe repetirse hasta que el usuario seleccione \"Salir\" o 0 (Cero).\n",
    "Utilizar funciones separadas para cada operación (ConsultarSaldo(), Depositar(), Retirar()).\n",
    "Validar lo siguiente:\n",
    "Que el monto a depositar o retirar sea mayor que cero.\n",
    "Que no se pueda retirar más dinero del disponible.\n",
    "Utilizar condicionales dentro de las funciones para realizar validaciones.\n",
    "Mostrar mensajes claros para el usuario en cada operación.\n",
    "\n",
    "\n",
    "Pistas para los estudiantes:\n",
    "Usar una variable saldo global que se actualice en cada operación.\n",
    "Las funciones pueden recibir parámetros si es necesario (por ejemplo, el monto a retirar).\n",
    "Usar un bucle mientras o repetir...hasta para mantener el programa corriendo hasta que se elija salir."
   ]
  },
  {
   "cell_type": "code",
   "execution_count": 5,
   "id": "ebdce91b",
   "metadata": {},
   "outputs": [],
   "source": [
    "conta=1000\n",
    "\n",
    "def consultar_saldo(conta): \n",
    "    return conta.saldo  \n",
    "def depositar(conta, valor):\n",
    "    conta.saldo += valor\n",
    "    return conta.saldo\n",
    "def sacar(conta, valor):\n",
    "    if valor > conta.saldo:\n",
    "        return \"Saldo insuficiente\"\n",
    "    conta.saldo -= valor\n",
    "    return conta.saldo\n",
    "def cantidadr_dinero(conta):\n",
    "    return conta.saldo  \n",
    "\n",
    "def menu():\n",
    "    print(\"****Bienvenido al Cajero Automático****\")\n",
    "    print(\"a. Consultar saldo\")\n",
    "    print(\"b. Depositar\")\n",
    "    print(\"c. Sacar\")\n",
    "    print(\"d. Salir\")\n",
    "    return input(\"Seleccione una opción: \")\n",
    "def opcion():\n",
    "    opcion = menu()\n",
    "    while opcion != 'd' or opcion != 'D':\n",
    "        if opcion == 'a' or opcion == 'A':\n",
    "            print(f\"Su saldo es: {consultar_saldo(conta)}\")\n",
    "        elif opcion == 'b'or opcion == 'B':\n",
    "            valor = float(input(\"Ingrese el monto a depositar: \"))\n",
    "            print(f\"Su nuevo saldo es: {depositar(conta, valor)}\")\n",
    "        elif opcion == 'c'or opcion == 'C':\n",
    "            valor = float(input(\"Ingrese el monto a sacar: \"))\n",
    "            resultado = sacar(conta, valor)\n",
    "            if resultado == \"Saldo insuficiente\":\n",
    "                print(resultado)\n",
    "            else:\n",
    "                print(f\"Su nuevo saldo es: {resultado}\")\n",
    "        else:\n",
    "            print(\"Opción inválida. Por favor, intente de nuevo.\")\n",
    "        opcion = menu()\n",
    "\n"
   ]
  }
 ],
 "metadata": {
  "kernelspec": {
   "display_name": "Python 3",
   "language": "python",
   "name": "python3"
  },
  "language_info": {
   "codemirror_mode": {
    "name": "ipython",
    "version": 3
   },
   "file_extension": ".py",
   "mimetype": "text/x-python",
   "name": "python",
   "nbconvert_exporter": "python",
   "pygments_lexer": "ipython3",
   "version": "3.13.7"
  }
 },
 "nbformat": 4,
 "nbformat_minor": 5
}
