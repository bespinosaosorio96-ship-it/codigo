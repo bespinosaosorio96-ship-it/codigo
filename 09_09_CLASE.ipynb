{
 "cells": [
  {
   "cell_type": "markdown",
   "metadata": {},
   "source": [
    "# ejercicio \n",
    "\n",
    "dado 3 numeros enteris positivos ordenarlos en forma asendente(menor o mayor)\n",
    "\n",
    "\n",
    "\n"
   ]
  },
  {
   "cell_type": "code",
   "execution_count": 18,
   "metadata": {},
   "outputs": [
    {
     "name": "stdout",
     "output_type": "stream",
     "text": [
      "3\n",
      "1\n",
      "2\n",
      "1 2 3\n"
     ]
    }
   ],
   "source": [
    "a=int(input(\"ingresa tu primer numero\"))\n",
    "print(a)\n",
    "b=int(input(\"ingrsea tu segundo numero\"))\n",
    "print(b)\n",
    "c=int(input(\"ingresa tu tercer numero\"))\n",
    "print(c)\n",
    "\n",
    "if a<b and b<c:\n",
    "    print(a,b,c)\n",
    "elif a<c and c<b:\n",
    "    print(a,c,b)\n",
    "elif b<a and a<c:\n",
    "    print(b,a,c)\n",
    "elif b<c and c<a:\n",
    "    print(b,c,a)\n",
    "elif c<a and a<b:\n",
    "    print(c,a,b)\n",
    "elif c<b and b<a:\n",
    "    print(c,b,a)\n"
   ]
  }
 ],
 "metadata": {
  "kernelspec": {
   "display_name": "Python 3",
   "language": "python",
   "name": "python3"
  },
  "language_info": {
   "codemirror_mode": {
    "name": "ipython",
    "version": 3
   },
   "file_extension": ".py",
   "mimetype": "text/x-python",
   "name": "python",
   "nbconvert_exporter": "python",
   "pygments_lexer": "ipython3",
   "version": "3.10.12"
  }
 },
 "nbformat": 4,
 "nbformat_minor": 2
}
