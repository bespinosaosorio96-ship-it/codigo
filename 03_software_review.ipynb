{
 "cells": [
  {
   "cell_type": "markdown",
   "id": "404b0754",
   "metadata": {},
   "source": [
    "## EJerecicio #1\n",
    "\n",
    "Convertidor de Temperatura: Pide al usuario que ingrese una temperatura y una\n",
    "unidad ('C' para Celsius, 'F' para Fahrenheit). Si la unidad es 'C', conviértela a\n",
    "Fahrenheit e imprímela. Si es 'F', conviértela a Celsius e imprímela. (F = C * 9/5 +\n",
    "32; C = (F - 32) * 5/9)."
   ]
  },
  {
   "cell_type": "code",
   "execution_count": 4,
   "id": "2a261995",
   "metadata": {},
   "outputs": [
    {
     "name": "stdout",
     "output_type": "stream",
     "text": [
      "La temperatura en Celsius es: 36.666666666666664°C\n"
     ]
    }
   ],
   "source": [
    "temperatura=float(input(\"Digite la temperatura: \"))\n",
    "grados=input(\"Digite la unidade para que decesa convertir (f para Fahrenheit, c para Celsius): \")\n",
    "\n",
    "if grados == \"c\":\n",
    "    temperatura_fahrenheit = (temperatura * 9/5) + 32\n",
    "    print(f\"la temperatura en Farentheit es: {temperatura_fahrenheit}°F\")\n",
    "elif grados == \"f\":\n",
    "    temperatura_celsius = (temperatura - 32) * 5/9\n",
    "    print(f\"La temperatura en Celsius es: {temperatura_celsius}°C\")\n",
    "else:\n",
    "    print(\"Unidad no reconocida. Por favor, use 'F' para Fahrenheit o 'C' para Celsius.\")\n",
    "\n",
    "\n",
    "\n",
    "\n",
    " "
   ]
  },
  {
   "cell_type": "markdown",
   "id": "536504d0",
   "metadata": {},
   "source": [
    " ## Ejercicio 2\n",
    "\n",
    "Calculadora de Año Bisiesto: Pide al usuario un año. Un año es bisiesto si cumple\n",
    "una de estas dos condiciones: es divisible por 4 pero no por 100, a menos que\n",
    "también sea divisible por 400. El programa debe imprimir si el año es bisiesto o no."
   ]
  },
  {
   "cell_type": "code",
   "execution_count": 6,
   "id": "0f2cf487",
   "metadata": {},
   "outputs": [
    {
     "name": "stdout",
     "output_type": "stream",
     "text": [
      "El año 2025 no es bisiesto.\n"
     ]
    }
   ],
   "source": [
    "año=int(input(\"Digite un año: \"))\n",
    "if (año % 4 == 0 and año % 100 != 0) or (año % 400 == 0):\n",
    "    print(f\"El año {año} es bisiesto.\")\n",
    "else:\n",
    "    print(f\"El año {año} no es bisiesto.\")"
   ]
  },
  {
   "cell_type": "markdown",
   "id": "e093802d",
   "metadata": {},
   "source": [
    "## Ejecicio 3\n",
    "\n",
    "Validador de Fechas: Pide al usuario que ingrese un día, mes y año como\n",
    "números. El programa debe determinar si la fecha es válida. Considera meses de\n",
    "30/31 días y que febrero tiene 29 días en año bisiesto y 28 en uno normal. El\n",
    "programa debe imprimir \"Fecha válida\" o \"Fecha inválida\"."
   ]
  },
  {
   "cell_type": "code",
   "execution_count": null,
   "id": "2dbd1bde",
   "metadata": {},
   "outputs": [
    {
     "name": "stdout",
     "output_type": "stream",
     "text": [
      "Fecha no válida.\n",
      "Fecha válida.\n"
     ]
    }
   ],
   "source": [
    "# Usar las variables ya definidas:  mes, dia y año\n",
    "mes=int(input(\"Digite el mes (1-12): \"))\n",
    "dia=int(input(\"Digite el día (1-31): \"))\n",
    "año=int(input(\"Digite el año: \"))\n",
    "\n",
    "if mes < 1 or mes > 12 or dia < 1 or dia > 31:\n",
    "    print(\"Fecha no válida.\")\n",
    "elif mes in [4, 6, 9, 11]:\n",
    "    if dia > 30:\n",
    "        print(\"Fecha no válida.\")\n",
    "    else:\n",
    "        print(\"Fecha válida.\")\n",
    "elif mes == 2:\n",
    "    # Verificar si es año bisiesto\n",
    "    if (año % 4 == 0 and año % 100 != 0) or (año % 400 == 0):\n",
    "        if dia > 29:\n",
    "            print(\"Fecha no válida.\")\n",
    "        else:\n",
    "            print(\"Fecha válida.\")\n",
    "    else:\n",
    "        if dia > 28:\n",
    "            print(\"Fecha no válida.\")\n",
    "        else:\n",
    "            print(\"Fecha válida.\")\n",
    "else:\n",
    "    print(\"Fecha válida.\")\n"
   ]
  }
 ],
 "metadata": {
  "kernelspec": {
   "display_name": "Python 3",
   "language": "python",
   "name": "python3"
  },
  "language_info": {
   "codemirror_mode": {
    "name": "ipython",
    "version": 3
   },
   "file_extension": ".py",
   "mimetype": "text/x-python",
   "name": "python",
   "nbconvert_exporter": "python",
   "pygments_lexer": "ipython3",
   "version": "3.13.7"
  }
 },
 "nbformat": 4,
 "nbformat_minor": 5
}
