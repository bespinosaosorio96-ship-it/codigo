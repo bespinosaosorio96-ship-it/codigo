{
 "cells": [
  {
   "cell_type": "markdown",
   "id": "e628c193",
   "metadata": {},
   "source": [
    "Brayan Espinosa OSorio\n",
    "\n",
    "# Ejercicio 1\n",
    "\n",
    "La empresa ACME desea calcular el valor de la nómina de un empleado, tanto el\n",
    "sueldo bruto como el sueldo neto. El sueldo bruto se calcula a partir del valor de la\n",
    "hora y la cantidad de horas trabajadas. A esto se le descuenta el valor de la EPS que es\n",
    "el 4%, el valor de la Pensión que es el 4%. El sueldo neto es el sueldo bruto menos los\n",
    "descuentos. Mostrar al final, el valor del sueldo bruto, cada uno de los descuentos y el\n",
    "valor del sueldo Neto. Para este ejercicio el valor de la hora es $20.000.         \n",
    "\n",
    "\n",
    "inicio\n",
    "    **leer** horasTrabajadas\n",
    "\n",
    "    \n",
    "        valorHora=20000\n",
    "        sueldoBruto= horasTrabajadas *valorHora\n",
    "        descueentoSalud= sueldoBruto *4%\n",
    "        descuenPension= sueldoBruto *4%\n",
    "        totalDescuentos= descuentoSalud+descuentoPension\n",
    "        sueldoNeto= sueldoBruto-toral descuento\n",
    "\n",
    "        escribir horas trabjadas\n",
    "        escribir sueldo bruto\n",
    "        escribir desceunto\n",
    "        escribir sueldo neto\n",
    "fin\n"
   ]
  },
  {
   "cell_type": "code",
   "execution_count": 1,
   "id": "9f1550a4",
   "metadata": {},
   "outputs": [
    {
     "name": "stdout",
     "output_type": "stream",
     "text": [
      "horasTrabajadas: 23.0\n",
      "salario bruto: $ 460000.0\n",
      "total descuentos: $ 36800.0\n",
      "salario neto: s 423200.0\n"
     ]
    }
   ],
   "source": [
    "# Ejercicio 1\n",
    "\n",
    "horasTrabajadas = float(input(\"Ingrese las horas trabajadas: \"))\n",
    "\n",
    "valorHora=20000\n",
    "salarioBruto= horasTrabajadas *valorHora\n",
    "descuentoSalud= salarioBruto*0.04\n",
    "descuentoPension= salarioBruto *0.04\n",
    "totalDescuentos= descuentoSalud+descuentoPension\n",
    "salarioNeto= salarioBruto - totalDescuentos\n",
    "print(\"horasTrabajadas:\", horasTrabajadas)\n",
    "print(\"salario bruto:\", \"$\",salarioBruto)\n",
    "print(\"total descuentos:\", \"$\",totalDescuentos)\n",
    "print(\"salario neto:\", \"s\",salarioNeto)\n"
   ]
  },
  {
   "cell_type": "markdown",
   "id": "f1a7a995",
   "metadata": {},
   "source": [
    "Brayan Espinosa Osorio\n",
    "\n",
    "# Ejercicio 2\n",
    "Hacer un algoritmo que dado una nota (de 0.0 a 5.0), calcule la curva de 8 de la nueva\n",
    "nota. La curva de 8 se calcula multiplicando la nota por 0.8 y sumándole 1.\n",
    "\n",
    "inicio\n",
    "    leer nota\n",
    "    nuevaNota= (nota*0.8)+1\n",
    "\n",
    "    escribir su nueva nota\n",
    "fin"
   ]
  },
  {
   "cell_type": "code",
   "execution_count": 5,
   "id": "1c98e18f",
   "metadata": {},
   "outputs": [
    {
     "name": "stdout",
     "output_type": "stream",
     "text": [
      "La nueva nota con curva 8 es: 3.4000000000000004\n"
     ]
    }
   ],
   "source": [
    "nota=float(input(\"Ingrese la nota del estudiante:(0-5):\"))\n",
    "\n",
    "nuevaNota=(nota*0.8)+1\n",
    "\n",
    "print(\"La nueva nota con curva 8 es:\", nuevaNota)\n"
   ]
  },
  {
   "cell_type": "markdown",
   "id": "de2080e2",
   "metadata": {},
   "source": [
    "Brayan Espinosa Osorio\n",
    "\n",
    "# Ejercicio 3\n",
    "\n",
    "Hacer un algoritmo que, dada una hora con minutos y minutos adicionales, calcule la\n",
    "nueva hora. Asuma que no se pasa de las 23:59\n",
    "Ejemplo\n",
    "Hora: 10:45\n",
    "Minutos: 20\n",
    "Nueva Hora: 11:05\n",
    "\n",
    "\n",
    "inicio \n",
    "    leer hora, minutos, minutosAdicionales\n",
    "\n",
    "        totalMinutos= min((hora*60)+minutos+minutosAdicionales,23*60 +59) **esto para limiatar y no se pase de 23:59**\n",
    "        nuevaHora=totalMinutos/60\n",
    "        nuevosMinutos= totalMinutos %60\n",
    "     escribir nueva hora\n",
    "fin        \n",
    "\n"
   ]
  },
  {
   "cell_type": "code",
   "execution_count": 3,
   "id": "992432e3",
   "metadata": {},
   "outputs": [
    {
     "name": "stdout",
     "output_type": "stream",
     "text": [
      "la nueva hora es: 2 : 6\n"
     ]
    }
   ],
   "source": [
    "# Ejercicio 3\n",
    "\n",
    "hora=int(input(\"ingrerse la hora:\"))\n",
    "minutos=int(input(\"ingrerse los minutos:\"))\n",
    "minutosAdicionales=int(input(\"ingrerse los minutos adicionales:\"))\n",
    "\n",
    "totalMinutos= min((hora*60)+minutos+minutosAdicionales, 23*60+59)\n",
    "nuevaHora=totalMinutos//60\n",
    "nuevosMinutos=totalMinutos%60\n",
    "print(\"la nueva hora es:\", nuevaHora, \":\", nuevosMinutos)\n",
    "\n",
    "# min nos ayuda limitar la hora a 23:59\n"
   ]
  },
  {
   "cell_type": "markdown",
   "id": "58563663",
   "metadata": {},
   "source": [
    "Brayan Espinosa sorio\n",
    "\n",
    "# Ejercicio 4\n",
    "Elabore un algoritmo en pseudocódigo que imprima el costo de un pedido de un\n",
    "artículo del cual se tiene la descripción, la cantidad pedida y el precio unitario. Debe\n",
    "mostrar la descripción del producto, el valor antes de IVA, el IVA, y el valor con IVA.\n",
    "Nota: IVA es el 20% del valor bruto.\n",
    "\n",
    "inicio\n",
    "    leer producto , valorUnitario, cantidadProducto\n",
    "\n",
    "        subTotal=cantidadProducto*valoeUnitario\n",
    "        valorIva=subTotal*0.20\n",
    "        total=subTotal+valorIva\n",
    "         escribir producto\n",
    "         escribir cantidad producto\n",
    "         escribir valor antees de iva\n",
    "         escribir valor total\n",
    "fin"
   ]
  },
  {
   "cell_type": "code",
   "execution_count": 1,
   "id": "05f79da1",
   "metadata": {},
   "outputs": [
    {
     "name": "stdout",
     "output_type": "stream",
     "text": [
      "producto: audifonos\n",
      "valor unitario: $ 60000.0\n",
      "cantidad: 25\n",
      "subtotal: $ 1500000.0\n",
      "valor iva: $ 300000.0\n",
      "total a pagar: $ 1800000.0\n"
     ]
    }
   ],
   "source": [
    "# Ejercicio 4\n",
    "\n",
    "peoducto=(input((\"ingrese el nombre del producto:\")))\n",
    "valorUnitario=float(input(\"ingrese el precio del producto:\"))\n",
    "cantidad=int(input(\"ingrese la cantidad del producto:\"))\n",
    "\n",
    "subTotal= valorUnitario*cantidad\n",
    "valorIva=subTotal*0.20\n",
    "total=subTotal+valorIva\n",
    "\n",
    "print(\"producto:\", peoducto)\n",
    "print(\"valor unitario:\", \"$\",valorUnitario)\n",
    "print(\"cantidad:\", cantidad)\n",
    "print(\"subtotal:\", \"$\",subTotal)\n",
    "print(\"valor iva:\", \"$\",valorIva)\n",
    "print(\"total a pagar:\", \"$\",total)\n"
   ]
  },
  {
   "cell_type": "markdown",
   "id": "55012bf2",
   "metadata": {},
   "source": [
    "Brayan Espinosa Osorio\n",
    "\n",
    "# Ejercicio 5\n",
    "\n",
    "Hacer un algoritmo que dado el año de nacimiento de una persona, calcule su edad\n",
    "\n",
    "inicio\n",
    "    leer añoNacimiento, añoActual\n",
    "        edad= añoActual-añoNacimiento\n",
    "\n",
    "    escribir edad\n",
    "fin"
   ]
  },
  {
   "cell_type": "code",
   "execution_count": 2,
   "id": "3a0657f9",
   "metadata": {},
   "outputs": [
    {
     "name": "stdout",
     "output_type": "stream",
     "text": [
      "la edad es: 38\n"
     ]
    }
   ],
   "source": [
    "\n",
    "añoNaacimiento=int(input(\"ingrese el año de nacimiento:\"))\n",
    "añoActual=int(input(\"ingrese el año actual:\"))\n",
    "\n",
    "edad=añoActual-añoNaacimiento\n",
    "print(\"la edad es:\", edad)"
   ]
  }
 ],
 "metadata": {
  "kernelspec": {
   "display_name": "Python 3",
   "language": "python",
   "name": "python3"
  },
  "language_info": {
   "codemirror_mode": {
    "name": "ipython",
    "version": 3
   },
   "file_extension": ".py",
   "mimetype": "text/x-python",
   "name": "python",
   "nbconvert_exporter": "python",
   "pygments_lexer": "ipython3",
   "version": "3.13.7"
  }
 },
 "nbformat": 4,
 "nbformat_minor": 5
}
