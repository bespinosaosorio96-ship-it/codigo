{
 "cells": [
  {
   "cell_type": "markdown",
   "id": "29e1711c",
   "metadata": {},
   "source": [
    "## Algoritmo del calculo del área de un circulo\n",
    "Diseñe un algoritmo y un programa en python que calcule el área de un círculo\n",
    "\n",
    "**Entrada:** _radio_\n",
    "Proceso: areaCirculo es pi * radio^2\n",
    "Salida: areaCirculo\n",
    "\n",
    "Algoritmo\n",
    "Inicio\n",
    "    leer radio\n",
    "    areaCirculo = 3.1415926 * radio**2\n",
    "    escribir areaCirculo\n",
    "Fin\n"
   ]
  },
  {
   "cell_type": "code",
   "execution_count": 1,
   "id": "3d970681",
   "metadata": {},
   "outputs": [
    {
     "name": "stdout",
     "output_type": "stream",
     "text": [
      "El área del cículo es: 314.15926\n"
     ]
    }
   ],
   "source": [
    "radio = float(input(\"Radio? \"))\n",
    "areaCirculo = 3.1415926 * radio**2\n",
    "print(\"El área del cículo es:\", areaCirculo)"
   ]
  },
  {
   "cell_type": "markdown",
   "id": "2ea230f0",
   "metadata": {},
   "source": [
    "## Ejercicio #1\n",
    "Diseñar un algoritmo que lea cuatro númerso y calcule e imprima su producto, suma y su media aritmética.\n",
    "\n",
    "**Entrada** a,b,c,d\n",
    "proceso: producto:a*b*c*d\n",
    "        suma: a+b+c+d\n",
    "        mediaAritmetica:(a+b+c+d)/4\n",
    "salida: producto\n",
    "        suma\n",
    "        mediaAretmetica\n",
    "\n",
    "inicio\n",
    "    leer a,b,c,d\n",
    "        producto=a*b*c*d\n",
    "        suma = a+b+c+d\n",
    "        mediaAritmetica=(a+b+c+d)/4\n",
    "    escribir producto \n",
    "    escribir suma\n",
    "    escribir mediaAritmetica\n",
    "fin\n"
   ]
  },
  {
   "cell_type": "code",
   "execution_count": null,
   "id": "c6f7eb93",
   "metadata": {},
   "outputs": [
    {
     "name": "stdout",
     "output_type": "stream",
     "text": [
      "El producto es: 6.0\n",
      "La suma es: 7.0\n",
      "La media aritmética es: 1.75\n"
     ]
    }
   ],
   "source": [
    "\n",
    "\n",
    "a =float(input(\"ingresar el primer numero:\"))\n",
    "b =float(input(\"ingresar el segundo numero:\"))\n",
    "c =float(input(\"ingresar el tercer numero:\"))   \n",
    "d =float(input(\"ingresar el cuarto numero:\"))\n",
    "\n",
    "producto = a * b * c * d\n",
    "suma = a + b + c + d\n",
    "mediaAritmetica = suma/4\n",
    "print(\"El producto es:\", producto)\n",
    "print(\"La suma es:\", suma)      \n",
    "print(\"La media aritmética es:\", mediaAritmetica)\n"
   ]
  },
  {
   "cell_type": "markdown",
   "id": "5c6cdffd",
   "metadata": {},
   "source": [
    "## Ejercicio #2\n",
    "Diseñar un algoritmo y programa que lea el peso de una persona en libras y lo devuelva en kilogramos y gramos\n",
    "$$ \\text{Kilogramos} = \\text{Libras} \\times 0.45359237 $$\n",
    "$$ \\text{Gramos} = \\text{Libras} \\times 453.59237 $$\n"
   ]
  },
  {
   "cell_type": "markdown",
   "id": "00efddc5",
   "metadata": {},
   "source": [
    "## Ejercicio #3\n",
    "Diseñar un algoritmo y programa que lea la altura de una persona en pies y su peso en libras y calcule su IMC (índice de masa corporal)\n",
    "$$ \\text{IMC} = \\frac{\\text{peso (kg)}}{\\text{altura (m)}^2} $$"
   ]
  }
 ],
 "metadata": {
  "kernelspec": {
   "display_name": "Python 3",
   "language": "python",
   "name": "python3"
  },
  "language_info": {
   "codemirror_mode": {
    "name": "ipython",
    "version": 3
   },
   "file_extension": ".py",
   "mimetype": "text/x-python",
   "name": "python",
   "nbconvert_exporter": "python",
   "pygments_lexer": "ipython3",
   "version": "3.13.7"
  }
 },
 "nbformat": 4,
 "nbformat_minor": 5
}
