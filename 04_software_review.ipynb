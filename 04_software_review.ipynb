{
 "cells": [
  {
   "cell_type": "markdown",
   "id": "e0ef4fc3",
   "metadata": {},
   "source": [
    "## Ejercicio 1: \n",
    "\n",
    "# Imprimir números pares\n",
    "Se requiere un algoritmo para determinar cuánto ahorrará una persona en un año, si al\n",
    "final de cada mes deposita variables cantidades de dinero; además, se requiere saber\n",
    "cuánto lleva ahorrado cada mes.\n",
    "\n",
    "\n",
    "inicio\n",
    "    leer para i en un rango de (1,13)\n",
    "        ingresa la cantidad de ahorro por mes\n",
    "         hacer la sumatoria de l dinero depositado en cada mes\n",
    "\n",
    "    escribir la suma y total de cada mes\n",
    "fin"
   ]
  },
  {
   "cell_type": "code",
   "execution_count": null,
   "id": "bdc349c6",
   "metadata": {},
   "outputs": [],
   "source": [
    "\n",
    "from email import message\n",
    "\n",
    "\n",
    "suma=0\n",
    "\n",
    "for i in range(1,13):\n",
    "    mes= \"Mes \" + str(i)\n",
    "    dinero= int(input(\"Ingrese la cantidad de dinero que ahorró en \" + mes + \": \"))\n",
    "    suma= suma + dinero\n",
    "    print(\"El total ahorrado hasta \" + mes + \" es: \" + str(suma))"
   ]
  },
  {
   "cell_type": "code",
   "execution_count": 7,
   "id": "f155e274",
   "metadata": {},
   "outputs": [
    {
     "name": "stdout",
     "output_type": "stream",
     "text": [
      "La suma de los múltiplos de 3 entre 1 y 30 es:  165\n"
     ]
    }
   ],
   "source": [
    "#Ejercicio 2: Suma de múltiplos de 3\n",
    "# Escribe un programa que calcule la suma de todos los múltiplos de 3 entre 1 y 30.\n",
    "\n",
    "suma=0\n",
    "for i in range(1,31):\n",
    "    if i % 3 == 0:\n",
    "        suma= suma + i\n",
    "print(\"La suma de los múltiplos de 3 entre 1 y 30 es: \" ,suma)"
   ]
  },
  {
   "cell_type": "code",
   "execution_count": 8,
   "id": "902e8a6e",
   "metadata": {},
   "outputs": [
    {
     "name": "stdout",
     "output_type": "stream",
     "text": [
      "El factorial de  9 !  es:  362880\n"
     ]
    }
   ],
   "source": [
    "#Ejercicio 3: Cálculo de factorial\n",
    "#Escribe un programa que pida al usuario un número entero positivo y calcule sufactorial.\n",
    "\n",
    "n= int(input(\"Ingrese un número entero positivo: \"))\n",
    "factorial=1 \n",
    "for i in range(1,n+1):\n",
    "    factorial= factorial * i\n",
    "print(\"El factorial de \" , n,\"!\" , \" es: \",factorial)\n",
    "\n",
    "\n",
    "\n"
   ]
  },
  {
   "cell_type": "code",
   "execution_count": 1,
   "id": "4566d533",
   "metadata": {},
   "outputs": [
    {
     "name": "stdout",
     "output_type": "stream",
     "text": [
      "0\n",
      "1\n",
      "1\n",
      "2\n",
      "3\n",
      "5\n",
      "8\n",
      "13\n",
      "21\n",
      "34\n",
      "La suma de los primeros 10 números de la serie de Fibonacci es:  143\n"
     ]
    }
   ],
   "source": [
    "# Ejercicio 4:\n",
    "#Escribe un programa que genere los primeros 10 números de la serie de Fibonacci.\n",
    "\n",
    "sum=0\n",
    "a, b = 0, 1\n",
    "for i in range(10):\n",
    "    print(a)\n",
    "    a, b = b, a + b \n",
    "    sum= sum + a\n",
    "print(\"La suma de los primeros 10 números de la serie de Fibonacci es: \", sum)\n",
    "\n",
    "\n",
    "            "
   ]
  },
  {
   "cell_type": "code",
   "execution_count": null,
   "id": "8acb1b66",
   "metadata": {},
   "outputs": [
    {
     "name": "stdout",
     "output_type": "stream",
     "text": [
      "1 \n",
      "1 1 \n",
      "1 2 1 \n",
      "1 3 3 1 \n",
      "1 4 6 4 1 \n",
      "1 5 10 10 5 1 \n"
     ]
    }
   ],
   "source": [
    "# ejercicio 5:\n",
    "# Escribe un programa que genere el Triángulo de Pascal hasta la fila n, donde n es un\n",
    "# número ingresado por el usuario. El Triángulo de Pascal es un arreglo triangular donde el\n",
    "# número en cada posición es la suma de los dos números directamente encima de él en la fila\n",
    "# anterior. Nota: No usar vectores\n",
    "\n",
    "n= int(input(\"Ingrese el número de filas para el Triángulo de Pascal: \"))\n",
    "for i in range(n):\n",
    "    for j in range(n-i-1):  #si quisiera centrar el triángulo\n",
    "        print(\" \", end=\"\")\n",
    "    num=1\n",
    "    for k in range(i+1):\n",
    "        print(num, end=\" \")\n",
    "        num= num * (i - k) // (k + 1)  #Se deriva de la relación de los coeficientes binomiales: C(n, k) = C(n, k-1) * (n - k + 1) / k\n",
    "    print()\n",
    "\n"
   ]
  },
  {
   "cell_type": "code",
   "execution_count": null,
   "id": "1ad6e370",
   "metadata": {},
   "outputs": [],
   "source": [
    "# Ejercicio 6:\n",
    "\n",
    "# Se requiere un algoritmo para determinar, de N cantidades, cuántas son menores o\n",
    "# iguales a cero y cuántas mayores a cero.\n",
    "\n",
    "n= int(input(\"Ingrese la cantidad de números que desea evaluar: \"))\n",
    "print(\"Debe ingresar \" , n , \" números.\")\n",
    "menores_cero=0\n",
    "iguales_cero=0\n",
    "mayores_cero=0\n",
    "for i in range(1,n+1):\n",
    "    numero= float(input(\"Ingrese el número \" + str(i+1) + \": \"))\n",
    "    print( i, \"El número ingresado es: \", numero)\n",
    "    if numero < 0:\n",
    "        menores_cero += 1\n",
    "    elif numero == 0:\n",
    "        iguales_cero += 1\n",
    "    else:\n",
    "        mayores_cero += 1\n",
    "print(\"Cantidad de números menores a cero: \", menores_cero)\n",
    "print(\"Cantidad de números iguales a cero: \", iguales_cero)\n",
    "print(\"Cantidad de números mayores a cero: \", mayores_cero)\n",
    "\n"
   ]
  }
 ],
 "metadata": {
  "kernelspec": {
   "display_name": "Python 3",
   "language": "python",
   "name": "python3"
  },
  "language_info": {
   "codemirror_mode": {
    "name": "ipython",
    "version": 3
   },
   "file_extension": ".py",
   "mimetype": "text/x-python",
   "name": "python",
   "nbconvert_exporter": "python",
   "pygments_lexer": "ipython3",
   "version": "3.13.7"
  }
 },
 "nbformat": 4,
 "nbformat_minor": 5
}
