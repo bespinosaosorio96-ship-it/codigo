{
 "cells": [
  {
   "cell_type": "markdown",
   "id": "e0ef4fc3",
   "metadata": {},
   "source": [
    "## Ejercicio 1: \n",
    "\n",
    "# Imprimir números pares\n",
    "Se requiere un algoritmo para determinar cuánto ahorrará una persona en un año, si al\n",
    "final de cada mes deposita variables cantidades de dinero; además, se requiere saber\n",
    "cuánto lleva ahorrado cada mes.\n",
    "\n",
    "\n",
    "inicio\n",
    "    leer para i en un rango de (1,13)\n",
    "        ingresa la cantidad de ahorro por mes\n",
    "         hacer la sumatoria de l dinero depositado en cada mes\n",
    "\n",
    "    escribir la suma y total de cada mes\n",
    "fin"
   ]
  },
  {
   "cell_type": "code",
   "execution_count": null,
   "id": "bdc349c6",
   "metadata": {},
   "outputs": [],
   "source": [
    "\n",
    "from email import message\n",
    "\n",
    "\n",
    "suma=0\n",
    "\n",
    "for i in range(1,13):\n",
    "    mes= \"Mes \" + str(i)\n",
    "    dinero= int(input(\"Ingrese la cantidad de dinero que ahorró en \" + mes + \": \"))\n",
    "    suma= suma + dinero\n",
    "    print(\"El total ahorrado hasta \" + mes + \" es: \" + str(suma))"
   ]
  },
  {
   "cell_type": "code",
   "execution_count": 7,
   "id": "f155e274",
   "metadata": {},
   "outputs": [
    {
     "name": "stdout",
     "output_type": "stream",
     "text": [
      "La suma de los múltiplos de 3 entre 1 y 30 es:  165\n"
     ]
    }
   ],
   "source": [
    "#Ejercicio 2: Suma de múltiplos de 3\n",
    "# Escribe un programa que calcule la suma de todos los múltiplos de 3 entre 1 y 30.\n",
    "\n",
    "suma=0\n",
    "for i in range(1,31):\n",
    "    if i % 3 == 0:\n",
    "        suma= suma + i\n",
    "print(\"La suma de los múltiplos de 3 entre 1 y 30 es: \" ,suma)"
   ]
  },
  {
   "cell_type": "code",
   "execution_count": 8,
   "id": "902e8a6e",
   "metadata": {},
   "outputs": [
    {
     "name": "stdout",
     "output_type": "stream",
     "text": [
      "El factorial de  9 !  es:  362880\n"
     ]
    }
   ],
   "source": [
    "#Ejercicio 3: Cálculo de factorial\n",
    "#Escribe un programa que pida al usuario un número entero positivo y calcule sufactorial.\n",
    "\n",
    "n= int(input(\"Ingrese un número entero positivo: \"))\n",
    "factorial=1 \n",
    "for i in range(1,n+1):\n",
    "    factorial= factorial * i\n",
    "print(\"El factorial de \" , n,\"!\" , \" es: \",factorial)\n",
    "\n",
    "\n",
    "\n"
   ]
  },
  {
   "cell_type": "code",
   "execution_count": null,
   "id": "4566d533",
   "metadata": {},
   "outputs": [],
   "source": [
    "# Ejercicio 4:\n",
    "#Escribe un programa que genere los primeros 10 números de la serie de Fibonacci.\n",
    "\n",
    "sum=0\n",
    "            "
   ]
  }
 ],
 "metadata": {
  "kernelspec": {
   "display_name": "Python 3",
   "language": "python",
   "name": "python3"
  },
  "language_info": {
   "codemirror_mode": {
    "name": "ipython",
    "version": 3
   },
   "file_extension": ".py",
   "mimetype": "text/x-python",
   "name": "python",
   "nbconvert_exporter": "python",
   "pygments_lexer": "ipython3",
   "version": "3.13.7"
  }
 },
 "nbformat": 4,
 "nbformat_minor": 5
}
