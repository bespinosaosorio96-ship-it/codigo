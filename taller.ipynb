{
 "cells": [
  {
   "cell_type": "code",
   "execution_count": null,
   "id": "206e5083",
   "metadata": {},
   "outputs": [],
   "source": [
    "temperatura=float(input(\"ingrese la temperatura:\" ))\n",
    "\n",
    "grado=input(\"ingrese la unidad de medida (c o f): \")\n",
    "\n",
    "if grado==\"c\":\n",
    "    f=(temperatura*9/5)+32\n",
    "    print(\"la temperatura en grados fahrenheit es:\", f)\n",
    "\n",
    "elif grado==\"f\":\n",
    "    c=(temperatura-32)*5/9\n",
    "    print(\"la temperatura en grados celsius es:\", c)\n",
    "\n",
    "else:\n",
    "    print(\"unidad no valida, debe ser c o f\")       "
   ]
  },
  {
   "cell_type": "code",
   "execution_count": null,
   "id": "1dedd8c0",
   "metadata": {},
   "outputs": [],
   "source": [
    "año=int(input(\"ingrese un año: \"))\n",
    "if (año%4==0 and año%100!=0) or (año%400==0):\n",
    "    print(\"el año es bisiesto\")\n",
    "else:\n",
    "    print(\"el año no es bisiesto\")    "
   ]
  },
  {
   "cell_type": "code",
   "execution_count": null,
   "id": "676f17eb",
   "metadata": {},
   "outputs": [],
   "source": [
    "dia=int(input(\"ingrese un dia: \"))\n",
    "mes=int(input(\"ingrese un mes: \"))  \n",
    "año=int(input(\"ingrese un año: \"))\n",
    "\n",
    "if mes < 1 and mes >12:\n",
    "    print(\"mes invalido\")\n",
    "\n",
    "elif dia < 1 and dia >31:\n",
    "    print(\"dia invalido\")\n",
    "\n",
    "elif mes==4:\n",
    "    if dia>30:\n",
    "        print(\"dia invalido\")\n",
    "    else:\n",
    "        print(\"fecha valida\")\n",
    "\n",
    "elif mes==6:\n",
    "    if dia>30:\n",
    "        print(\"dia invalido\")\n",
    "    else:\n",
    "        print(\"fecha valida\")\n",
    "\n",
    "elif mes==9:\n",
    "    if dia>30:\n",
    "        print(\"dia invalido\")\n",
    "    else:\n",
    "        print(\"fecha valida\")\n",
    "\n",
    "elif mes==11:\n",
    "    if dia>30:\n",
    "        print(\"dia invalido\")\n",
    "    else:\n",
    "        print(\"fecha valida\")\n",
    "\n",
    "elif mes==2:\n",
    "    if (año%4==0 and año%100!=0) or (año%400==0):\n",
    "        if dia>29:\n",
    "            print(\"dia invalido\")\n",
    "        else:\n",
    "            print(\"fecha valida\")\n",
    "    else:\n",
    "        if dia>28:\n",
    "            print(\"dia invalido\")\n",
    "        else:\n",
    "            print(\"fecha valida\")                        "
   ]
  }
 ],
 "metadata": {
  "language_info": {
   "name": "python"
  }
 },
 "nbformat": 4,
 "nbformat_minor": 5
}
