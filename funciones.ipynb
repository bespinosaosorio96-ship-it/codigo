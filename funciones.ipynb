{
 "cells": [
  {
   "cell_type": "markdown",
   "metadata": {},
   "source": [
    "# Funciones\n",
    "\n",
    "**Sintaxis**\n",
    "\n",
    "def nombreFuncion(parametros)\n",
    "    # instrucciones\n",
    "    "
   ]
  },
  {
   "cell_type": "code",
   "execution_count": 2,
   "metadata": {},
   "outputs": [
    {
     "name": "stdout",
     "output_type": "stream",
     "text": [
      "la suma de es: 13\n",
      "la resta es: -3\n"
     ]
    }
   ],
   "source": [
    "def sum(num1,num2):\n",
    "    resultado=num1+num2\n",
    "    return resultado\n",
    "\n",
    "def resta(num1,num2):\n",
    "    resultado=num1-num2\n",
    "    return resultado\n",
    "\n",
    "\n",
    "a=5\n",
    "b=8\n",
    "\n",
    "print(\"la suma de es:\", sum(a,b))\n",
    "print(\"la resta es:\", resta(a,b))\n",
    "\n"
   ]
  },
  {
   "cell_type": "code",
   "execution_count": 27,
   "metadata": {},
   "outputs": [
    {
     "name": "stdout",
     "output_type": "stream",
     "text": [
      "720\n"
     ]
    }
   ],
   "source": [
    "# Ejemplo\n",
    "# Hacer una funcion que me calcule el factorial de un numero\n",
    "\n",
    "def factorial(num):\n",
    "    if num < 0:\n",
    "        return -1\n",
    "    elif num==0:\n",
    "        return 1\n",
    "    else:\n",
    "        f=1\n",
    "        for i in range(1,num+1):\n",
    "            f=f*i\n",
    "        return f\n",
    "        \n",
    "print(factorial(6))"
   ]
  },
  {
   "cell_type": "code",
   "execution_count": null,
   "metadata": {},
   "outputs": [
    {
     "name": "stdout",
     "output_type": "stream",
     "text": [
      "4\n"
     ]
    }
   ],
   "source": [
    "# Ejemplo\n",
    "# Calcular la formula combinatoria de dos numeros\n",
    "# C(n,k)=n!//(k!*(n-k!))\n",
    "\n",
    "\n",
    "\n",
    "\n",
    "def factorial(num):\n",
    "    if num < 0:\n",
    "        return -1\n",
    "    elif num == 0:\n",
    "        return 1\n",
    "    else:\n",
    "        f = 1 \n",
    "        for i in range(1, num+1):\n",
    "            f = f * i\n",
    "        return f\n",
    "        \n",
    "def combi(n,k):\n",
    "    if n >= k:\n",
    "        resultado= factorial(n) // (factorial(k)*factorial(n-k))\n",
    "    else:\n",
    "        resultado=0\n",
    "    return resultado\n",
    "print(combi(4,3))"
   ]
  },
  {
   "cell_type": "code",
   "execution_count": null,
   "metadata": {},
   "outputs": [],
   "source": [
    "# Ejercicio\n",
    "# hacer el triangulo de pascal\n",
    "\n",
    "# Ejemplo\n",
    "# Calcular la formula combinatoria de dos numeros\n",
    "# C(n,k)=n!//(k!*(n-k!))\n",
    "\n",
    "from math import comb\n",
    "\n",
    "\n",
    "def factorial(num):\n",
    "    if num < 0:\n",
    "        return -1\n",
    "    elif num == 0:\n",
    "        return 1\n",
    "    else:\n",
    "        f = 1 \n",
    "        for i in range(1, num+1):\n",
    "            f = f * i\n",
    "        return f\n",
    "        \n",
    "def combi(n,k):\n",
    "    if n >= k:\n",
    "        resultado= factorial(n) // (factorial(k)*factorial(n-k))\n",
    "    else:\n",
    "        resultado=0\n",
    "    return resultado\n",
    "\n",
    "def trianguloPascal(n):\n",
    "    if n<1:\n",
    "        print(\"No se puede calcular\")\n",
    "    else:\n",
    "        for fila in range(n):\n",
    "            for col in range(fila+1):\n",
    "                print(combi(fila,col), end=\" \")\n",
    "            print(\"\")\n",
    "\n",
    "trianguloPascal(10)"
   ]
  },
  {
   "cell_type": "code",
   "execution_count": 29,
   "metadata": {},
   "outputs": [
    {
     "name": "stdout",
     "output_type": "stream",
     "text": [
      "72.4\n",
      "14.444444444444445\n"
     ]
    }
   ],
   "source": [
    "# Ejercicio:\n",
    "# haga dos funciones que convierta de grados centigrados a farenheit y otra que convierta a\n",
    "# grados centigrados\n",
    "\n",
    "def farentheit(grados):\n",
    "    resultado=(grados*9/5)-32\n",
    "    return resultado\n",
    "\n",
    "def centigrados(grados):\n",
    "    resultado=(grados-32)*5/9\n",
    "    return resultado\n",
    "    \n",
    "print(farentheit(58))\n",
    "\n",
    "print(centigrados(58))"
   ]
  }
 ],
 "metadata": {
  "kernelspec": {
   "display_name": "Python 3",
   "language": "python",
   "name": "python3"
  },
  "language_info": {
   "codemirror_mode": {
    "name": "ipython",
    "version": 3
   },
   "file_extension": ".py",
   "mimetype": "text/x-python",
   "name": "python",
   "nbconvert_exporter": "python",
   "pygments_lexer": "ipython3",
   "version": "3.10.12"
  }
 },
 "nbformat": 4,
 "nbformat_minor": 2
}
