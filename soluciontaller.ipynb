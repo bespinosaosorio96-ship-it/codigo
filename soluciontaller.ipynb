{
 "cells": [
  {
   "cell_type": "code",
   "execution_count": null,
   "id": "3782f833",
   "metadata": {},
   "outputs": [],
   "source": [
    "#Convertidor de Temperatura: Pide al usuario que ingrese una temperatura y una unidad\n",
    "#  ('C' para Celsius, 'F' para Fahrenheit). Si la unidad es 'C', conviértela a Fahrenheit e imprímela. Si es 'F',\n",
    "#  conviértela a Celsius e imprímela. (F = C * 9/5 +32; C = (F - 32) * 5/9).\n",
    "\n",
    "temp = float(input(\"Ingrese la temperatura: \"))\n",
    "unidad = input(\"Ingrese la unidad (C para Celsius, F para Fahrenheit): \")\n",
    "\n",
    "if unidad==\"c\":\n",
    "    fahrenheit = temp * 9/5 + 32\n",
    "    print(f\"{temp} grados Celsius son {fahrenheit} grados Fahrenheit.\")\n",
    "elif unidad==\"f\":\n",
    "    celsius = (temp - 32) * 5/9\n",
    "    print(f\"{temp} grados Fahrenheit son {celsius} grados Celsius.\")\n",
    "\n",
    "    "
   ]
  },
  {
   "cell_type": "code",
   "execution_count": null,
   "id": "bdb7fdc3",
   "metadata": {},
   "outputs": [],
   "source": [
    "# Calculadora de Año Bisiesto: Pide al usuario un año. Un año es bisiesto si cumple\n",
    "# una de estas dos condiciones: es divisible por 4 pero no por 100, a menos que\n",
    "# también sea divisible por 400. El programa debe imprimir si el año es bisiesto o no.\n",
    "\n",
    "año = int(input(\"Ingrese un año: \"))\n",
    "\n",
    "if (año % 4 == 0 and año % 100 != 0) or (año % 400 == 0):\n",
    "    print(f\"El año {año} es bisiesto.\")\n",
    "else:\n",
    "    print(f\"El año {año} no es bisiesto.\")"
   ]
  },
  {
   "cell_type": "code",
   "execution_count": 1,
   "id": "243755b0",
   "metadata": {},
   "outputs": [
    {
     "name": "stdout",
     "output_type": "stream",
     "text": [
      "Fecha válida\n"
     ]
    }
   ],
   "source": [
    "# Validador de Fechas: Pide al usuario que ingrese un día, mes y año como\n",
    "# números. El programa debe determinar si la fecha es válida. Considera meses de\n",
    "# 30/31 días y que febrero tiene 29 días en año bisiesto y 28 en uno normal. El\n",
    "# programa debe imprimir \"Fecha válida\" o \"Fecha inválida\".\n",
    "\n",
    "dia = int(input(\"Ingrese el día: \"))\n",
    "mes = int(input(\"Ingrese el mes: \"))\n",
    "año = int(input(\"Ingrese el año: \"))\n",
    "\n",
    "if mes < 1 or mes > 12:\n",
    "    print(\"Fecha inválida\") \n",
    "elif dia < 1 or dia > 31:\n",
    "    print(\"Fecha inválida\")\n",
    "elif mes == 4 or mes == 6 or mes == 9 or mes == 11:\n",
    "    if dia > 30:\n",
    "        print(\"Fecha inválida\")\n",
    "    else:\n",
    "        print(\"Fecha válida\")\n",
    "elif mes == 2:\n",
    "    if (año % 4 == 0 and año % 100 != 0) or (año % 400 == 0):\n",
    "        if dia > 29:\n",
    "            print(\"Fecha inválida\")\n",
    "        else:\n",
    "            print(\"Fecha válida\")\n",
    "    else:\n",
    "        if dia > 28:\n",
    "            print(\"Fecha inválida\")\n",
    "        else:\n",
    "            print(\"Fecha válida\")\n"
   ]
  }
 ],
 "metadata": {
  "kernelspec": {
   "display_name": "Python 3",
   "language": "python",
   "name": "python3"
  },
  "language_info": {
   "codemirror_mode": {
    "name": "ipython",
    "version": 3
   },
   "file_extension": ".py",
   "mimetype": "text/x-python",
   "name": "python",
   "nbconvert_exporter": "python",
   "pygments_lexer": "ipython3",
   "version": "3.13.7"
  }
 },
 "nbformat": 4,
 "nbformat_minor": 5
}
