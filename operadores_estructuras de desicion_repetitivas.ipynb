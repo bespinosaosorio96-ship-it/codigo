{
 "cells": [
  {
   "cell_type": "markdown",
   "metadata": {},
   "source": [
    "# Operadores\n",
    "\n",
    "Operadores de asignacion.\n",
    "\n",
    "A la varible escrita a la izquierda se le asigna el valor de la derecha "
   ]
  },
  {
   "cell_type": "markdown",
   "metadata": {},
   "source": [
    "# Operaciones aritmeticas\n",
    "\n",
    "+ suma\n",
    "- resta\n",
    "/ division exacta\n",
    "// division parte entera\n",
    "% modular\n",
    "** potencia\n",
    "* multiplicacion "
   ]
  },
  {
   "cell_type": "markdown",
   "metadata": {},
   "source": [
    "1. 📝 Instrucciones del proyecto (if y while)\n",
    "\n",
    "Crea un programa en Python que simule un cajero automático simple:\n",
    "\n",
    "El usuario empieza con un saldo inicial de $100.000.\n",
    "\n",
    "El programa debe mostrar un menú en consola con estas opciones:\n",
    "\n",
    "1. Consultar saldo\n",
    "2. Depositar dinero\n",
    "3. Retirar dinero\n",
    "'0. Salir'\n",
    "\n",
    "El menú debe repetirse con un bucle while hasta que el usuario elija la opción 0.\n",
    "\n",
    "Usa match para manejar cada opción del menú.\n",
    "\n",
    "En el caso de retirar dinero, valida con if/else que el saldo no quede negativo.\n",
    "\n",
    "\n",
    "2. 📝 Instrucciones del proyecto (for)\n",
    "\n",
    "Pide al usuario que escriba una palabra o frase.\n",
    "\n",
    "Usa un bucle for para recorrer cada letra.\n",
    "\n",
    "Cuenta cuántas veces aparece cada vocal (a, e, i, o, u).\n",
    "\n",
    "Muestra el resultado al final."
   ]
  },
  {
   "cell_type": "code",
   "execution_count": 13,
   "metadata": {},
   "outputs": [
    {
     "name": "stdout",
     "output_type": "stream",
     "text": [
      "\n",
      "Recuento de vocales:en la frase  ese huevo quiere sal\n",
      "a: 1\n",
      "e: 5\n",
      "i: 1\n",
      "o: 1\n",
      "u: 2\n"
     ]
    }
   ],
   "source": [
    "frase=input(\"Ingrese una palabra o frase\")\n",
    "\n",
    "a=e=i=o=u=0\n",
    "\n",
    "frase_minuscula=frase.lower()\n",
    "\n",
    "for letra in frase_minuscula:\n",
    "    if letra == 'a':\n",
    "        a += 1\n",
    "    elif letra == 'e':\n",
    "        e += 1\n",
    "    elif letra == 'i':\n",
    "        i += 1\n",
    "    elif letra == 'o':\n",
    "        o += 1\n",
    "    elif letra == 'u':\n",
    "        u += 1\n",
    "        \n",
    "print(\"\\nRecuento de vocales:en la frase \",frase)\n",
    "print(f\"a: {a}\")\n",
    "print(f\"e: {e}\")\n",
    "print(f\"i: {i}\")\n",
    "print(f\"o: {o}\")\n",
    "print(f\"u: {u}\")\n",
    "\n"
   ]
  }
 ],
 "metadata": {
  "kernelspec": {
   "display_name": "Python 3",
   "language": "python",
   "name": "python3"
  },
  "language_info": {
   "codemirror_mode": {
    "name": "ipython",
    "version": 3
   },
   "file_extension": ".py",
   "mimetype": "text/x-python",
   "name": "python",
   "nbconvert_exporter": "python",
   "pygments_lexer": "ipython3",
   "version": "3.10.12"
  }
 },
 "nbformat": 4,
 "nbformat_minor": 2
}
