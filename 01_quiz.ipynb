{
 "cells": [
  {
   "cell_type": "markdown",
   "metadata": {},
   "source": [
    "\n",
    "# Quiz 1\n",
    "\n",
    "Escribe un programa que convierta una cantidad total de segundos a su equivalente en horas, minutos y segundos. El  programa debe solicitar al usuario un número entero que representa el total de segundos. \n",
    "Consideraciones: \n",
    "• Una hora tiene 3600 segundos. \n",
    "• Un minuto tiene 60 segundos. \n",
    "Ejemplo de salida esperada: \n",
    "Si el usuario ingresa 3661, la salida debe ser: Equivale a: 1 hora(s), 1 minuto(s) y 1 segundo(s). 1. Diseño del Algoritmo: \n",
    "\n",
    "\n",
    "\n",
    "\n",
    "• Entrada: hora,minuto y segundos\n",
    "• Proceso: \n",
    "    segunodsHora=hora*3600\n",
    "    segundosMinutos=minutos*60\n",
    "    totalsegundos= segundos+segunodsHoras+segundosMinutos\n",
    "\n",
    "    \n",
    "• Salida: \n"
   ]
  },
  {
   "cell_type": "code",
   "execution_count": 57,
   "metadata": {},
   "outputs": [
    {
     "name": "stdout",
     "output_type": "stream",
     "text": [
      "equivale a :hora 1 minutos 1 segundo 12\n"
     ]
    }
   ],
   "source": [
    "\n",
    "segundos=int(input(\"ingresa los segundos\"))\n",
    "\n",
    "\n",
    "\n",
    "totalHoras= segundos //3600\n",
    "totalMinutos= totalHoras%3600\n",
    "segundo=segundos %60\n",
    "\n",
    "print(\"equivale a :\" \"hora\",totalHoras, \"minutos\", totalMinutos, \"segundo\", segundo)"
   ]
  },
  {
   "cell_type": "markdown",
   "metadata": {},
   "source": [
    "# Problema 2:\n",
    "\n",
    "Diseña un programa que genere un nombre de usuario simple. El programa debe pedir al usuario su primer nombre y su\n",
    "año de nacimiento. El nombre de usuario se creará uniendo el nombre en minúsculas y los dos últimos dígitos del año de\n",
    "nacimiento.\n",
    "Ejemplo de salida esperada:\n",
    "Si el usuario ingresa \"Carlos\" y \"1998\", la salida debe ser: Tu nuevo nombre de usuario es: carlos98\n",
    "1. Diseño del Algoritmo:\n",
    "•Entrada:nombre, año de naciemiento\n",
    "•Proceso:año\n",
    "•Salida:nombre usuario"
   ]
  },
  {
   "cell_type": "code",
   "execution_count": 54,
   "metadata": {},
   "outputs": [
    {
     "name": "stdout",
     "output_type": "stream",
     "text": [
      "Tu nuevo nombre de usuario es: brayan 98\n"
     ]
    }
   ],
   "source": [
    "\n",
    "\n",
    "\n",
    "nombre=(input(\"ingrese su primer nombre\"))\n",
    "año=int(input(\"ingrese su año de nacimiento\"))\n",
    "\n",
    "digitos=año%100\n",
    "\n",
    "\n",
    "\n",
    "print(\"Tu nuevo nombre de usuario es:\", nombre,digitos)\n"
   ]
  },
  {
   "cell_type": "markdown",
   "metadata": {},
   "source": [
    "Problema:\n",
    "Desarrolla un programa que convierta una cantidad de pesos colombianos (COP) a dólares estadounidenses (USD). El\n",
    "programa debe pedir al usuario la cantidad en pesos y luego mostrar el equivalente en dólares.\n",
    "Consideración: Utiliza un tipo de cambio fijo: 1 dólar = 4,000 pesos colombianos.\n",
    "1. Diseño del Algoritmo:\n",
    "•Entrada:ingresa cantidadDolares\n",
    "\n",
    "•Proceso:\n",
    "pesosColombianos=cantidadDolares*4000\n",
    "•Salida:cantidad dolares equivalen a pesosColombianos"
   ]
  },
  {
   "cell_type": "code",
   "execution_count": 44,
   "metadata": {},
   "outputs": [
    {
     "name": "stdout",
     "output_type": "stream",
     "text": [
      "estos 2.0 dolares equivales a: 8000.0 pesos colombianos\n"
     ]
    }
   ],
   "source": [
    "cantidad=float(input(\"Ingresa la cantidad de Dolares\"))\n",
    "pesosColombianos=cantidad*4000\n",
    "\n",
    "print(\"estos\",cantidad,\"dolares equivales a:\",pesosColombianos,\"pesos colombianos\")\n"
   ]
  }
 ],
 "metadata": {
  "kernelspec": {
   "display_name": "Python 3",
   "language": "python",
   "name": "python3"
  },
  "language_info": {
   "codemirror_mode": {
    "name": "ipython",
    "version": 3
   },
   "file_extension": ".py",
   "mimetype": "text/x-python",
   "name": "python",
   "nbconvert_exporter": "python",
   "pygments_lexer": "ipython3",
   "version": "3.13.7"
  }
 },
 "nbformat": 4,
 "nbformat_minor": 2
}
