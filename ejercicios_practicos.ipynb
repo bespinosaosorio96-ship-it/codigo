{
 "cells": [
  {
   "cell_type": "markdown",
   "metadata": {},
   "source": [
    "# Ejercicio 1\n",
    "\n",
    "La presion, volumen y temperatura de una masa de aire y se relaciona por la formula\n",
    "\n",
    "masa= presion*volumen/0.37*(temperatura+460)\n",
    "\n",
    "Calcular el promedio de masa de los neumaticos de n vahiculos que están compostura en un sercicio de alineacion y balanceo. Los veiculos pueden ser motocicletas o automoviles"
   ]
  },
  {
   "cell_type": "code",
   "execution_count": 13,
   "metadata": {},
   "outputs": [],
   "source": [
    "def calcular_masa(presion, volumen, temperatura):\n",
    "\n",
    "    return (presion * volumen) / (0.37 * (temperatura + 460))\n",
    "\n",
    "def procesar_vehiculos_():\n",
    "\n",
    "    num_vehiculos = 0\n",
    "    while num_vehiculos <= 0:\n",
    "        num_vehiculos = int(input(\"¿Cuántos vehículos están en el servicio? \"))\n",
    "        if num_vehiculos <= 0:\n",
    "            print(\"Por favor, ingrese un número positivo de vehículos.\")\n",
    "\n",
    "    total_masa_neumaticos = 0\n",
    "    total_neumaticos = 0\n",
    "\n",
    "    for i in range(1, num_vehiculos + 1):\n",
    "        print(f\"\\n--- Vehículo {i} ---\")\n",
    "        tipo_vehiculo = \"\"\n",
    "        \n",
    "        while tipo_vehiculo not in ['motocicleta', 'automovil']:\n",
    "            tipo_vehiculo_input = input(\"¿Es una motocicleta o un automóvil? \").lower()\n",
    "            opciones_vehiculo = {\n",
    "                'motocicleta': 'motocicleta',\n",
    "                'automovil': 'automovil'}\n",
    "            tipo_vehiculo = opciones_vehiculo.get(tipo_vehiculo_input, '')\n",
    "            if not tipo_vehiculo:\n",
    "                print(\"Tipo de vehículo inválido. Por favor, ingrese 'motocicleta' o 'automovil'.\")\n",
    "\n",
    "        num_neumaticos_vehiculo = 0\n",
    "\n",
    "        if tipo_vehiculo == 'motocicleta':\n",
    "            num_neumaticos_vehiculo = 2\n",
    "        elif tipo_vehiculo == 'automovil':\n",
    "            num_neumaticos_vehiculo = 4\n",
    "        \n",
    "        print(f\"El {tipo_vehiculo} tiene {num_neumaticos_vehiculo} neumáticos.\")\n",
    "\n",
    "        for j in range(1, num_neumaticos_vehiculo + 1):\n",
    "            print(f\"  Neumático {j}:\")\n",
    "            presion = float(input(f\"    Ingrese la presión (psi) para el neumático {j}: \"))\n",
    "            volumen = float(input(f\"    Ingrese el volumen (pies cúbicos) para el neumático {j}: \"))\n",
    "            temperatura = float(input(f\"    Ingrese la temperatura (Fahrenheit) para el neumático {j}: \"))\n",
    "            \n",
    "            masa_neumatico = calcular_masa(presion, volumen, temperatura)\n",
    "            print(f\"    La masa de aire en el neumático {j} es: {masa_neumatico:.2f} unidades de masa\")\n",
    "            total_masa_neumaticos += masa_neumatico\n",
    "            total_neumaticos += 1\n",
    "\n",
    "    if total_neumaticos > 0:\n",
    "        promedio_masa = total_masa_neumaticos / total_neumaticos\n",
    "        print(f\"\\n--- Resumen General ---\")\n",
    "        print(f\"Número total de neumáticos procesados: {total_neumaticos}\")\n",
    "        print(f\"Suma total de la masa de aire en todos los neumáticos: {total_masa_neumaticos:.2f} unidades de masa\")\n",
    "        print(f\"El promedio de masa de aire de los neumáticos es: {promedio_masa:.2f} unidades de masa\")\n",
    "    else:\n",
    "        print(\"\\nNo se procesaron neumáticos.\")\n",
    "\n",
    "\n",
    "\n",
    "\n"
   ]
  },
  {
   "cell_type": "markdown",
   "metadata": {},
   "source": []
  }
 ],
 "metadata": {
  "kernelspec": {
   "display_name": "Python 3",
   "language": "python",
   "name": "python3"
  },
  "language_info": {
   "codemirror_mode": {
    "name": "ipython",
    "version": 3
   },
   "file_extension": ".py",
   "mimetype": "text/x-python",
   "name": "python",
   "nbconvert_exporter": "python",
   "pygments_lexer": "ipython3",
   "version": "3.10.12"
  }
 },
 "nbformat": 4,
 "nbformat_minor": 2
}
