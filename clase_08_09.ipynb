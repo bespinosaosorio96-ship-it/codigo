{
 "cells": [
  {
   "cell_type": "markdown",
   "metadata": {},
   "source": [
    "# estructura condicional \n",
    "# estructura condicional simple\n",
    "\n",
    "la condicion se cumple cuando lo condicion solo es verdadera"
   ]
  },
  {
   "cell_type": "code",
   "execution_count": 3,
   "metadata": {},
   "outputs": [
    {
     "name": "stdout",
     "output_type": "stream",
     "text": [
      "es mayor de edad\n"
     ]
    }
   ],
   "source": [
    "\"ejemplo es mayor de edad\"\n",
    "\n",
    "edad=25\n",
    "if edad >=18:\n",
    "    print(\"es mayor de edad\")\n"
   ]
  },
  {
   "cell_type": "code",
   "execution_count": 2,
   "metadata": {},
   "outputs": [],
   "source": [
    "\"ejemplo es Menor de edad\"\n",
    "\n",
    "edad=25 \n",
    "if edad <=17:\n",
    "    print(\"es Menor de edad\")"
   ]
  },
  {
   "cell_type": "markdown",
   "metadata": {},
   "source": [
    "## Estructura condicionales doble\n",
    "permiten elegir entr 2 bloques de código alternativo \n",
    "\n",
    "**sintasis**\n",
    "\n",
    "if condicion:\n",
    "    # bloque de instrucciones si la condicion es verdadera\n",
    "else \n",
    "    # bloque de instrucciones cuando la condicion es falsa\n"
   ]
  },
  {
   "cell_type": "code",
   "execution_count": 2,
   "metadata": {},
   "outputs": [
    {
     "name": "stdout",
     "output_type": "stream",
     "text": [
      "es mayor de edad\n"
     ]
    }
   ],
   "source": [
    "# Ejemplo \n",
    "# imprimir si la edad es mayor o menor de edad \n",
    "\n",
    "edad=int(input(\"ingrese su edad:\"))\n",
    "\n",
    "if edad >= 18:\n",
    "    print(\"es mayor de edad\")\n",
    "else:\n",
    "    print(\"Es Menor de edad\")"
   ]
  },
  {
   "cell_type": "code",
   "execution_count": 4,
   "metadata": {},
   "outputs": [
    {
     "name": "stdout",
     "output_type": "stream",
     "text": [
      "Es Mayor de edad\n"
     ]
    }
   ],
   "source": [
    "# operador ternario\n",
    "edad=int(input(\"ingrese su edad\"))\n",
    "estado=\"Es Mayor de edad\" if edad >=18 else \"Es Menor de edad\"\n",
    "print(estado)"
   ]
  },
  {
   "cell_type": "code",
   "execution_count": 8,
   "metadata": {},
   "outputs": [
    {
     "name": "stdout",
     "output_type": "stream",
     "text": [
      "El numero es PAR POSITIVO\n"
     ]
    }
   ],
   "source": [
    "# ejemplo enviar un mensaje cuando un numero es par positivo y cuando no:\n",
    "\n",
    "num=int(input(\"ingrese un numero:\"))\n",
    "if num % 2 == 0 and num >=0:\n",
    "    print(\"El numero es PAR POSITIVO\")\n",
    "else:\n",
    "    print(\"El numero no es PAR POSITIVO\")"
   ]
  },
  {
   "cell_type": "code",
   "execution_count": 12,
   "metadata": {},
   "outputs": [
    {
     "name": "stdout",
     "output_type": "stream",
     "text": [
      "Inicio de secion exitoso\n"
     ]
    }
   ],
   "source": [
    "# Ejemplo \n",
    "# Simule en la pantalla un inicio de secion, tiene la contraseña gaurdada.\n",
    "# El usuario tiene que compararlas y mostrar uno de estos mensajes :\n",
    "# \"inicio de secion exitosa\"\n",
    "# \"Contraseña Incorrecta\"\n",
    "\n",
    "password=\"campus2023\"\n",
    "ingresada=input(\"Contraseña :\")\n",
    "\n",
    "if password == ingresada:\n",
    "    print(\"Inicio de secion exitoso\")\n",
    "else:\n",
    "    print(\"contraseña incorrecta\")"
   ]
  },
  {
   "cell_type": "markdown",
   "metadata": {},
   "source": [
    "## ejerciciio \n",
    "\n",
    "dado el nombre y salario de de un empleado, calcular el subsidiio de transporte, teniendo encuenta que si el salario es menor o igual a 1.200.000 entonces tiene derecho a un auxilio de 12000 de lo ocntrario  no tiene derecho al transporte. se debe visualizar el nombre, salario y subsidio transporte.\n",
    "\n"
   ]
  },
  {
   "cell_type": "code",
   "execution_count": 16,
   "metadata": {},
   "outputs": [
    {
     "name": "stdout",
     "output_type": "stream",
     "text": [
      "Andres }\n",
      "0.0\n",
      "Tiene derecho a un axilio de transporte :$ 120000\n"
     ]
    }
   ],
   "source": [
    "nombre=input(\"Nombre:\")\n",
    "print(nombre)\n",
    "salario=float(input(\"Salario:\"))\n",
    "print(salario)\n",
    "auxTransporte=120000\n",
    "\n",
    "if salario <= 1200000:\n",
    "    print(\"Tiene derecho a un axilio de transporte :\" \"$\",auxTransporte)\n",
    "else:\n",
    "    print(\"su subcidio de transportes es : 0\")\n",
    " "
   ]
  },
  {
   "cell_type": "markdown",
   "metadata": {},
   "source": [
    "## CONDICIONAL MULTIPLE\n",
    "\n",
    " Se utiliza cuando existen mas de 2 caminos posibles.\n",
    " si ninguna es verdadera se ejecuta el bloque else(opcional)\n",
    "\n",
    " **Sintaxis**\n",
    "if condicion_1:\n",
    "    # bloque A: se ejecuta si condicio_1 es verdadero \n",
    "elif condicion_2\n",
    "    # bloque B: se ejecuta si condicion_2 es verdadera\n",
    "\n",
    "----\n",
    "\n",
    "else: opcional\n",
    "    # se ejecuta si ninguna es correcta\n",
    "\n",
    " \n",
    "\n"
   ]
  },
  {
   "cell_type": "code",
   "execution_count": null,
   "metadata": {},
   "outputs": [],
   "source": [
    "# Ejemplo:\n",
    "\n",
    "# simule un lanzamiento de de dos dados. El usuario debe intentar adivinar que número cayó\n",
    "# si adivina debe mostrar un mensaje: \"Lo has adivinado\"\n",
    "# si no adivina, y su numero es mayor que el dado el mensaje es \"El numero es menor\"\n",
    "# si no adivina, y su numero es menor que el dado el mensaje es \"El numero es mayor\"\n",
    "\n",
    "\n",
    "import random\n",
    "dado1=random.randint(1,6)\n",
    "dado2=random.randint(1,6)\n",
    "dados=dado1+dado2\n",
    "\n",
    "adivina=int(input(\"Cual numero de los dados cayeron 1-12?\"))\n",
    "\n",
    "if adivina<1 or adivina > 12:\n",
    "    print(\"Numero invalido\")\n",
    "elif adivina == dados:\n",
    "    print(\"Lo has adivinado!!!!!\")\n",
    "elif adivina > dados:\n",
    "    print(\"el numero fue menor \")\n",
    "else:\n",
    "    print(\"el numero fue mayor\")\n"
   ]
  },
  {
   "cell_type": "markdown",
   "metadata": {},
   "source": [
    "# Estructuras de control\n",
    "\n",
    "Dado el nombre del estudiante y la calificacion cuantitativa de una evaluacion de (0-100), se pide, hallar la calificacion cualitativa, de acuerdo a la sigueinte informacion \n",
    "\n",
    "rango evaluacion:\n",
    "\n",
    "0-59=D\n",
    "60-79=c\n",
    "80-89=b\n",
    "90-100=A"
   ]
  },
  {
   "cell_type": "code",
   "execution_count": 27,
   "metadata": {},
   "outputs": [
    {
     "name": "stdout",
     "output_type": "stream",
     "text": [
      "brayan\n",
      "79.0\n",
      "su nota es : C\n"
     ]
    }
   ],
   "source": [
    "nombre=input(\"ingresa el nombre\")\n",
    "print(nombre)\n",
    "notaCuantitativa=float(input(\"ingrese su nota cuantitativa(0 - 100)\"))\n",
    "print(notaCuantitativa)\n",
    "\n",
    "if notaCuantitativa>0 and notaCuantitativa<=59:\n",
    "    print(\"su nota es D\")\n",
    "elif notaCuantitativa>59 and notaCuantitativa<=79:\n",
    "    print(\"su nota es : C\")\n",
    "elif notaCuantitativa>79 and notaCuantitativa<89:\n",
    "    print(\"su nota es: B\")\n",
    "else:\n",
    "    print(\"su nota es A\")\n",
    "\n"
   ]
  },
  {
   "cell_type": "markdown",
   "metadata": {},
   "source": [
    "## Estructura multiple (mathch_case)\n",
    "\n",
    "Es una forma de comparar un valor contra multiples cas literales. python 3.10\n",
    "\n",
    "**Sintaxis**\n",
    "\n",
    "match valor:\n",
    "    case patron_1:\n",
    "        #bloque A\n",
    "    case patron_2:\n",
    "        #bloque B\n",
    "    case patron_k:\n",
    "        bloque K\n",
    "    case _: # caso comodin (opcinal)\n",
    "        #bloque comodin\n",
    "\n"
   ]
  },
  {
   "cell_type": "code",
   "execution_count": 59,
   "metadata": {},
   "outputs": [
    {
     "name": "stdout",
     "output_type": "stream",
     "text": [
      "Día de la semana: 6\n",
      "sabado\n"
     ]
    }
   ],
   "source": [
    "# Ejemplo\n",
    "\n",
    "# suponga un sistema antiguo nos da el dia de la semana con un numero\n",
    "# 1: lunes, 2: martes,.....,7:domingo\n",
    "# contruya un programa que traduzca es numero  al dia de la semana correspondiente\n",
    "\n",
    "import random\n",
    "\n",
    "diaSem= random.randint(1,7)\n",
    "\n",
    "print(\"Día de la semana:\", diaSem)\n",
    "match diaSem:\n",
    "    case 1: print(\"lunes\")\n",
    "    case 2: print(\"martes\")\n",
    "    case 3: print(\"miercoles\")\n",
    "    case 4: print(\"jueves\")\n",
    "    case 5: print(\"viernes\")\n",
    "    case 6: print(\"sabado\")\n",
    "    case 7: print(\"domingo\")\n",
    "    case _: print(\"valor no valido\")"
   ]
  },
  {
   "cell_type": "markdown",
   "metadata": {},
   "source": [
    "# Ejercicio \n",
    "\n",
    "indice de masa corporal imc\n",
    "\n",
    "\n",
    "menos de 18.5: Bajo de peso\n",
    "18.5 - 24.9: peso nomral \n",
    "25.0 - 29.9: sobrepeso\n",
    "30.0 o mas: obesidad"
   ]
  },
  {
   "cell_type": "code",
   "execution_count": null,
   "metadata": {},
   "outputs": [],
   "source": [
    "altura=float(input(\"Ingrese su altura en m\"))\n",
    "print(altura)\n",
    "peso=float(input(\"Ingresa su peso en Kg\"))\n",
    "print(peso)\n",
    "\n",
    "imc=peso/(altura**2)\n",
    "print(imc)\n",
    "\n",
    "if imc < 18.5:\n",
    "    print(\"esta bajo de peso\")\n",
    "elif imc>=18.5 and imc <=24.9:\n",
    "    print(\"su peso es nomral\")\n",
    "elif imc\n",
    "    \n",
    "\n",
    "    "
   ]
  }
 ],
 "metadata": {
  "kernelspec": {
   "display_name": "Python 3",
   "language": "python",
   "name": "python3"
  },
  "language_info": {
   "codemirror_mode": {
    "name": "ipython",
    "version": 3
   },
   "file_extension": ".py",
   "mimetype": "text/x-python",
   "name": "python",
   "nbconvert_exporter": "python",
   "pygments_lexer": "ipython3",
   "version": "3.10.12"
  }
 },
 "nbformat": 4,
 "nbformat_minor": 2
}
