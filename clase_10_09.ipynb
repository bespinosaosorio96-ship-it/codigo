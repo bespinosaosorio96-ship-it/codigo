{
 "cells": [
  {
   "cell_type": "markdown",
   "metadata": {},
   "source": [
    "## Contadores\n",
    "\n",
    "me sirve para saber cuantos elementos hay\n",
    "* Empieza en 0: cont = 0\n",
    "* se incrementan de 1 en 1: cont = cont + 1"
   ]
  },
  {
   "cell_type": "code",
   "execution_count": 33,
   "metadata": {},
   "outputs": [
    {
     "name": "stdout",
     "output_type": "stream",
     "text": [
      "cantidad de numeros impares: 51\n",
      "porcentaje de numeros impares 51.00 %\n"
     ]
    }
   ],
   "source": [
    "# E jemplo cree un programa que genere (rango de 1 a 1000)\n",
    "# e indique cauntos y que porcentaje es impar\n",
    "\n",
    "import random\n",
    "cont=0\n",
    "for i in range(100):\n",
    "    num=random.randint(1,1000)\n",
    "    if num % 2 != 0:\n",
    "        cont =cont +1\n",
    "\n",
    "porc = cont / 100*100\n",
    "\n",
    "print(\"cantidad de numeros impares:\", cont)\n",
    "print(\"porcentaje de numeros impares\", \"{:.2f}\".format(porc),\"%\")\n",
    "\n",
    "\n"
   ]
  },
  {
   "cell_type": "code",
   "execution_count": null,
   "metadata": {},
   "outputs": [
    {
     "name": "stdout",
     "output_type": "stream",
     "text": [
      "Datos del estudiante # 1\n",
      "15\n",
      "f\n",
      "Datos del estudiante # 2\n",
      "16\n",
      "f\n",
      "Datos del estudiante # 3\n",
      "19\n",
      "f\n",
      "Datos del estudiante # 4\n",
      "56\n",
      "m\n",
      "Datos del estudiante # 5\n",
      "16\n",
      "m\n",
      "Datos del estudiante # 6\n",
      "12\n",
      "f\n",
      "Datos del estudiante # 7\n",
      "56\n",
      "m\n",
      "Datos del estudiante # 8\n",
      "16\n",
      "m\n",
      "Datos del estudiante # 9\n",
      "14\n",
      "m\n",
      "Datos del estudiante # 10\n",
      "12\n",
      "m\n",
      "Estudiantes mayores de edad 3\n",
      "Estudiantes menores de edad 7\n",
      "Estudiantes Mujeres 4\n",
      "Estudiantes Hombres 6\n",
      "Se debe aumentar la cuota femenina\n"
     ]
    }
   ],
   "source": [
    "# Ejemplo\n",
    "# en un salon hay 10 estudiantes,, cuente cuanatos son mayores de edad, cuantos son menores de edad, cuantos \n",
    "# son mujeres y cuantos son hombres. si hay mas hombres que mujeres mostrar el mensaje de \" se debe aumentar \n",
    "# la cuota femenina\"\n",
    "\n",
    "\n",
    "\n",
    "\n",
    "CANTEST=10\n",
    "ContMayEdad=0\n",
    "ContMenEdad=0\n",
    "ContMujeres=0\n",
    "ContHombres=0\n",
    "\n",
    "for i in range(CANTEST):\n",
    "    print(\"Datos del estudiante #\"+str(i+1))\n",
    "    edad = int(input(\"\\tEdad\")+str(i+1))\n",
    "    print(edad)\n",
    "    sexo= input(\"\\tSexo (f o m)? \")\n",
    "    print(sexo)\n",
    "\n",
    "    if edad >= 18:\n",
    "        ContMayEdad=ContMayEdad+1\n",
    "    else:\n",
    "        ContMenEdad=ContMenEdad+1\n",
    "\n",
    "    if sexo ==\"f\" or sexo == \"F\":\n",
    "        ContMujeres=ContMujeres+1\n",
    "    else:\n",
    "        ContHombres=ContHombres+1\n",
    "\n",
    "print(\"Estudiantes mayores de edad\", ContMayEdad)\n",
    "print(\"Estudiantes menores de edad\", ContMenEdad)\n",
    "print(\"Estudiantes Mujeres\", ContMujeres)\n",
    "print(\"Estudiantes Hombres\", ContHombres)\n",
    "print(\"Se debe aumentar la cuota femenina\") if ContHombres>ContMujeres else print(\"\")"
   ]
  },
  {
   "cell_type": "code",
   "execution_count": 38,
   "metadata": {},
   "outputs": [
    {
     "name": "stdout",
     "output_type": "stream",
     "text": [
      "1,2,3,4,5,6,7,8,9,10,"
     ]
    }
   ],
   "source": [
    "# Ejemplo\n",
    "\n",
    "# Mostrar, con ciclo white, los numeros del 1 al 10\n",
    "num=1\n",
    "while num<=10:\n",
    "    print(num, end=\",\")\n",
    "    num=num+1"
   ]
  },
  {
   "cell_type": "code",
   "execution_count": 40,
   "metadata": {},
   "outputs": [
    {
     "name": "stdout",
     "output_type": "stream",
     "text": [
      "1, 1, 2, 3, 5, 8, 13, 21, 34, 55, "
     ]
    }
   ],
   "source": [
    "# Ejemplo:}\n",
    "# Fobonnaci fue una matematico que modelo el crecimiento de los conejos mediante la sucesion:\n",
    "# 1,1,2,3,5,8,......\n",
    "# calcule el n-esimo término de la funcion fibonacci que el usuario ingrese\n",
    "\n",
    "n= int(input(\"Ingrese el término de fibonnaci que quiere hallar: \"))\n",
    "if (n<1):\n",
    "    print(\"Error. Entrada Inválida\")\n",
    "elif n==1:\n",
    "    print(1)\n",
    "elif n==2:\n",
    "    print(\"1, 1\")\n",
    "else:\n",
    "    ant=1\n",
    "    sig=1\n",
    "    temp=0\n",
    "\n",
    "    print(\"1, 1\", end=\", \")\n",
    "    for i in range (3,n+1):\n",
    "        temp=sig\n",
    "        sig=ant+sig\n",
    "        ant=temp\n",
    "        print(sig, end=\", \")\n",
    "    "
   ]
  },
  {
   "cell_type": "code",
   "execution_count": null,
   "metadata": {},
   "outputs": [],
   "source": [
    "# Ejemplo\n",
    "# Codigo que valide que el usuario haya digita f para femenino y m para masculino; si no lo hace,\n",
    "# mostrar un mensaje que se equivocó e intente nuevamente.\n",
    "\n",
    "sexo=input(\"Sexo (f o m)\")\n",
    "\n",
    "while (sexo != \"f\" and sexo != \"F\") and (sexo != \"m\" and sexo != \"M\" ):\n",
    "    print(\"Error. Intente nuevamente. \")\n",
    "    sexo=input(\"Sexo (f o m)\")\n",
    "print(\"Ha ingresaso el sexo correctamente\")\n",
    "\n"
   ]
  },
  {
   "cell_type": "code",
   "execution_count": null,
   "metadata": {},
   "outputs": [],
   "source": []
  },
  {
   "cell_type": "code",
   "execution_count": 55,
   "metadata": {},
   "outputs": [
    {
     "name": "stdout",
     "output_type": "stream",
     "text": [
      "El promedio de nota es:  5.375\n",
      "La mejor nota es: 9\n",
      "La peor nota es 1\n"
     ]
    }
   ],
   "source": [
    "# Ejemplo \n",
    "# Un profeosr ingresea cierta cantidad de notas (notas de 1 a 10) y quiere saber cual es el promedio,\n",
    "# cual es la mejor nota y la peor nota. Cuando no tenga más notas ingresará el un valor menor que 1 para\n",
    "# terminar.\n",
    "\n",
    "suma=0\n",
    "nota=int(input(\"Ingrese una nota(1-10)o oprima 0 para salir:\"))\n",
    "cantNotas=1\n",
    "mejorNota=nota\n",
    "peorNota=nota\n",
    "while nota >=1:\n",
    "    suma = suma + nota\n",
    "    nota=int(input(\"Ingrese una nota:\"))\n",
    "\n",
    "    if nota >=1:\n",
    "        cantNotas = cantNotas + 1\n",
    "        if nota > mejorNota:\n",
    "            mejorNota=nota\n",
    "        elif nota < peorNota:\n",
    "            peorNota=nota\n",
    "\n",
    "promedio=suma/cantNotas\n",
    "\n",
    "print(\"El promedio de nota es: \", promedio)\n",
    "print(\"La mejor nota es:\", mejorNota)\n",
    "print(\"La peor nota es\", peorNota)\n"
   ]
  }
 ],
 "metadata": {
  "kernelspec": {
   "display_name": "Python 3",
   "language": "python",
   "name": "python3"
  },
  "language_info": {
   "codemirror_mode": {
    "name": "ipython",
    "version": 3
   },
   "file_extension": ".py",
   "mimetype": "text/x-python",
   "name": "python",
   "nbconvert_exporter": "python",
   "pygments_lexer": "ipython3",
   "version": "3.10.12"
  }
 },
 "nbformat": 4,
 "nbformat_minor": 2
}
