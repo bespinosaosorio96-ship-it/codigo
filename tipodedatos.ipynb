{
 "cells": [
  {
   "cell_type": "markdown",
   "metadata": {},
   "source": [
    "Funcion type ()\n",
    " comprobar tipo de una variable"
   ]
  },
  {
   "cell_type": "code",
   "execution_count": 6,
   "metadata": {},
   "outputs": [
    {
     "name": "stdout",
     "output_type": "stream",
     "text": [
      "<class 'int'>\n",
      "<class 'float'>\n",
      "<class 'str'>\n",
      "<class 'bool'>\n",
      "<class 'bool'>\n"
     ]
    }
   ],
   "source": [
    "edad=18\n",
    "print(type(edad))\n",
    "\n",
    "dolares= 2499.99\n",
    "print(type(dolares))\n",
    "\n",
    "pais= \"colombia\"\n",
    "print(type(pais))\n",
    "\n",
    "esFeliz= True\n",
    "esCasado =False\n",
    "print(type(esFeliz))\n",
    "print(type(esCasado))\n",
    "\n"
   ]
  },
  {
   "cell_type": "markdown",
   "metadata": {},
   "source": []
  },
  {
   "cell_type": "code",
   "execution_count": 7,
   "metadata": {},
   "outputs": [
    {
     "name": "stdout",
     "output_type": "stream",
     "text": [
      "3\n"
     ]
    }
   ],
   "source": [
    "valor= 2 + 5 * 3 // 2 % 6\n",
    "print(valor)\n"
   ]
  },
  {
   "cell_type": "code",
   "execution_count": 9,
   "metadata": {},
   "outputs": [
    {
     "name": "stdout",
     "output_type": "stream",
     "text": [
      "123,456,789\n",
      "25.12\n"
     ]
    }
   ],
   "source": [
    "numero=123456789\n",
    "print(\"{:,}\".format(numero))\n",
    "\n",
    "temperatura=25.12345678\n",
    "print(\"{:,.2f}\".format(temperatura))\n"
   ]
  }
 ],
 "metadata": {
  "kernelspec": {
   "display_name": "Python 3",
   "language": "python",
   "name": "python3"
  },
  "language_info": {
   "codemirror_mode": {
    "name": "ipython",
    "version": 3
   },
   "file_extension": ".py",
   "mimetype": "text/x-python",
   "name": "python",
   "nbconvert_exporter": "python",
   "pygments_lexer": "ipython3",
   "version": "3.10.12"
  }
 },
 "nbformat": 4,
 "nbformat_minor": 2
}
