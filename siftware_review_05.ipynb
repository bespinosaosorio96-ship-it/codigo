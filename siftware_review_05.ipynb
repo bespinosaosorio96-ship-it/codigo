{
 "cells": [
  {
   "cell_type": "markdown",
   "id": "f0b0f572",
   "metadata": {},
   "source": [
    "1. Diseñe un algoritmo con funciones y procedimientos que indique el valor del\n",
    "descuento de un artículo el cual es del 5% solo si el artículo tiene un costo superior\n",
    "al $150.000."
   ]
  },
  {
   "cell_type": "code",
   "execution_count": null,
   "id": "7b068fa5",
   "metadata": {},
   "outputs": [
    {
     "name": "stdout",
     "output_type": "stream",
     "text": [
      "\n",
      "La cantidad de articulos es: 2\n",
      "El precio del ultimo articulo es: 85.0\n",
      "\n",
      "El precio total es: 0.00\n",
      "\n",
      "El descuento total es: 0.00\n"
     ]
    }
   ],
   "source": [
    "def mensajeError():\n",
    "    print(\"\\n>> Error. Valor inválido\")\n",
    "    input(\"Presione una tecla para continuar\")\n",
    "    print()\n",
    "\n",
    "def \n",
    "# Programa que calcula el descuento total por la compra de n articulos\n",
    "# Si el precio del articulo es mayor a 150000 se le aplica un descuento del 5%\n",
    "# Al final se muestra el descuento total\n",
    "suma=0\n",
    "n=int(input(\"ingrese la cantidad de articulos: \"))\n",
    "while n<=0:\n",
    "    mensajeError()\n",
    "    n=int(input(\"ingrese la cantidad de articulos: \"))\n",
    "descuento=0\n",
    "for i in range(n):\n",
    "    precio=float(input(\"ingrese el precio del articulo: \"+ str(i+1)))\n",
    "    while precio<=0:\n",
    "        mensajeError()\n",
    "        precio=float(input(\"ingrese el precio del articulo: \"))\n",
    "        suma=suma+precio\n",
    "    if precio>150000:\n",
    "        descuento+=precio*0.05\n",
    "print(\"\\nLa cantidad de articulos es:\", n)\n",
    "print(\"El precio del ultimo articulo es:\", precio)\n",
    "print(f\"\\nEl precio total es: {suma:.2f}\")\n",
    "print(f\"\\nEl descuento total es: {descuento:.2f}\")\n",
    "# Programa que calcula el descuento total por la compra de n articulos\n"
   ]
  },
  {
   "cell_type": "markdown",
   "id": "9cc7cd17",
   "metadata": {},
   "source": [
    "3. Diseñe un pseudocódigo que permita registrar 10 estudiantes (código, nombre).\n",
    "Además del registro, deberá:\n",
    "a. Asignar 3 notas parciales a cada estudiante.\n",
    "b. Registrar el número de inasistencias de cada estudiante.\n",
    "c. Mostrar el listado de estudiantes.\n",
    "d. Calcular nota final.\n",
    "La nota final será calculada por promedio aritmético de las notas parciales y\n",
    "deberá disminuir acorde a las inasistencias, así:\n",
    "• 10 o más inasistencias y menos de 15: -0.5\n",
    "• 15 o más inasistencias: -1\n",
    "Al elegir la opción 4, deberá mostrar la lista de estudiantes con sus notas\n",
    "parciales, inasistencias y la nota final. Ejemplo:\n",
    "COD NOMBRE P1 P2 P3 INASISTENCIAS NOTA FINAL\n",
    "01 Pedro 4 3 5 10 3.5"
   ]
  }
 ],
 "metadata": {
  "kernelspec": {
   "display_name": "Python 3",
   "language": "python",
   "name": "python3"
  },
  "language_info": {
   "codemirror_mode": {
    "name": "ipython",
    "version": 3
   },
   "file_extension": ".py",
   "mimetype": "text/x-python",
   "name": "python",
   "nbconvert_exporter": "python",
   "pygments_lexer": "ipython3",
   "version": "3.13.7"
  }
 },
 "nbformat": 4,
 "nbformat_minor": 5
}
