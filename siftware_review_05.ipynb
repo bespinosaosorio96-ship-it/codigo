{
 "cells": [
  {
   "cell_type": "markdown",
   "id": "f0b0f572",
   "metadata": {},
   "source": [
    "1. Diseñe un algoritmo con funciones y procedimientos que indique el valor del\n",
    "descuento de un artículo el cual es del 5% solo si el artículo tiene un costo superior\n",
    "al $150.000."
   ]
  },
  {
   "cell_type": "code",
   "execution_count": null,
   "id": "7b068fa5",
   "metadata": {},
   "outputs": [
    {
     "name": "stdout",
     "output_type": "stream",
     "text": [
      "\n",
      "La cantidad de articulos es: 2\n",
      "El precio del ultimo articulo es: 85.0\n",
      "\n",
      "El precio total es: 0.00\n",
      "\n",
      "El descuento total es: 0.00\n"
     ]
    }
   ],
   "source": [
    "def mensajeError():\n",
    "    print(\"\\n>> Error. Valor inválido\")\n",
    "    input(\"Presione una tecla para continuar\")\n",
    "    print()\n",
    " \n",
    "# Programa que calcula el descuento total por la compra de n articulos\n",
    "# Si el precio del articulo es mayor a 150000 se le aplica un descuento del 5%\n",
    "# Al final se muestra el descuento total\n",
    "suma=0\n",
    "n=int(input(\"ingrese la cantidad de articulos: \"))\n",
    "while n<=0:\n",
    "    mensajeError()\n",
    "    n=int(input(\"ingrese la cantidad de articulos: \"))\n",
    "descuento=0\n",
    "for i in range(n):\n",
    "    precio=float(input(\"ingrese el precio del articulo: \"+ str(i+1)))\n",
    "    while precio<=0:\n",
    "        mensajeError()\n",
    "        precio=float(input(\"ingrese el precio del articulo: \"))\n",
    "        suma=suma+precio\n",
    "    if precio>150000:\n",
    "        descuento+=precio*0.05\n",
    "print(\"\\nLa cantidad de articulos es:\", n)\n",
    "print(\"El precio del ultimo articulo es:\", precio)\n",
    "print(f\"\\nEl precio total es: {suma:.2f}\")\n",
    "print(f\"\\nEl descuento total es: {descuento:.2f}\")\n",
    "# Programa que calcula el descuento total por la compra de n articulos\n"
   ]
  },
  {
   "cell_type": "markdown",
   "id": "9cc7cd17",
   "metadata": {},
   "source": [
    "3. Diseñe un pseudocódigo que permita registrar 10 estudiantes (código, nombre).\n",
    "Además del registro, deberá:\n",
    "a. Asignar 3 notas parciales a cada estudiante.\n",
    "b. Registrar el número de inasistencias de cada estudiante.\n",
    "c. Mostrar el listado de estudiantes.\n",
    "d. Calcular nota final.\n",
    "La nota final será calculada por promedio aritmético de las notas parciales y\n",
    "deberá disminuir acorde a las inasistencias, así:\n",
    "• 10 o más inasistencias y menos de 15: -0.5\n",
    "• 15 o más inasistencias: -1\n",
    "Al elegir la opción 4, deberá mostrar la lista de estudiantes con sus notas\n",
    "parciales, inasistencias y la nota final. Ejemplo:\n",
    "COD NOMBRE P1 P2 P3 INASISTENCIAS NOTA FINAL\n",
    "01 Pedro 4 3 5 10 3.5"
   ]
  },
  {
   "cell_type": "code",
   "execution_count": 6,
   "id": "b242954c",
   "metadata": {},
   "outputs": [
    {
     "name": "stdout",
     "output_type": "stream",
     "text": [
      "\n",
      "Listado de estudiantes:\n",
      "COD  NOMBRE       P1   P2   P3   INASISTENCIAS   NOTA FINAL\n",
      "5    b            5.0  5.0  5.0  16              4.00\n"
     ]
    }
   ],
   "source": [
    "#3. Diseñe un pseudocódigo que permita registrar 10 estudiantes (código, nombre).\n",
    "# Además del registro, deberá:\n",
    "# a. Asignar 3 notas parciales a cada estudiante.\n",
    "# b. Registrar el número de inasistencias de cada estudiante.\n",
    "# c. Mostrar el listado de estudiantes.\n",
    "# d. Calcular nota final.\n",
    "# La nota final será calculada por promedio aritmético de las notas parciales y\n",
    "# deberá disminuir acorde a las inasistencias, así:\n",
    "# • 10 o más inasistencias y menos de 15: -0.5\n",
    "# • 15 o más inasistencias: -1\n",
    "# Al elegir la opción 4, deberá mostrar la lista de estudiantes con sus notas\n",
    "# parciales, inasistencias y la nota final. Ejemplo:\n",
    "# COD NOMBRE P1 P2 P3 INASISTENCIAS NOTA FINAL\n",
    "# 01  Pedro  4  3   5        10        3.5\n",
    "\n",
    "\n",
    "estudiantes = []\n",
    "# num_estudiantes = 10\n",
    "num_estudiantes = int(input(\"Ingrese la cantidad de estudiantes a registrar: \"))\n",
    "while num_estudiantes <= 0:\n",
    "    mensajeError()\n",
    "    num_estudiantes = int(input(\"Ingrese la cantidad de estudiantes a registrar: \"))\n",
    "def mensajeError():\n",
    "    print(\"\\n>> Error. Valor inválido\")\n",
    "    input(\"Presione una tecla para continuar5\" \\\n",
    "    \"\")\n",
    "    print()\n",
    "def calcular_nota_final(notas, inasistencias):\n",
    "    promedio = sum(notas) / len(notas)\n",
    "    if inasistencias >= 15:\n",
    "        promedio -= 1\n",
    "    elif inasistencias >= 10:\n",
    "        promedio -= 0.5\n",
    "    return max(promedio, 0)  # La nota final no puede ser negativa\n",
    "for i in range(num_estudiantes):\n",
    "    codigo = input(f\"Ingrese el código del estudiante {i+1}: \")\n",
    "    nombre = input(f\"Ingrese el nombre del estudiante {i+1}: \")\n",
    "    notas = []\n",
    "    for j in range(3):\n",
    "        nota = float(input(f\"Ingrese la nota parcial {j+1} del estudiante {nombre}: \"))\n",
    "        while nota < 0 or nota > 5:\n",
    "            mensajeError()\n",
    "            nota = float(input(f\"Ingrese la nota parcial {j+1} del estudiante {nombre}: \"))\n",
    "        notas.append(nota)\n",
    "    inasistencias = int(input(f\"Ingrese el número de inasistencias del estudiante {nombre}: \"))\n",
    "    while inasistencias < 0:\n",
    "        mensajeError()\n",
    "        inasistencias = int(input(f\"Ingrese el número de inasistencias del estudiante {nombre}: \"))\n",
    "    nota_final = calcular_nota_final(notas, inasistencias)\n",
    "    estudiantes.append({\n",
    "        \"codigo\": codigo,\n",
    "        \"nombre\": nombre,\n",
    "        \"notas\": notas,\n",
    "        \"inasistencias\": inasistencias,\n",
    "        \"nota_final\": nota_final\n",
    "    })\n",
    "\n",
    "print(\"\\nListado de estudiantes:\")\n",
    "print(\"COD  NOMBRE       P1   P2   P3   INASISTENCIAS   NOTA FINAL\")\n",
    "for i in estudiantes:\n",
    "    print(f\"{i['codigo']: <4} {i['nombre']: <12} {i['notas'][0]: <4} {i['notas'][1]: <4} {i['notas'][2]: <4} {i['inasistencias']: <15} {i['nota_final']:.2f}\")  \n",
    "\n",
    "\n",
    "\n"
   ]
  }
 ],
 "metadata": {
  "kernelspec": {
   "display_name": "Python 3",
   "language": "python",
   "name": "python3"
  },
  "language_info": {
   "codemirror_mode": {
    "name": "ipython",
    "version": 3
   },
   "file_extension": ".py",
   "mimetype": "text/x-python",
   "name": "python",
   "nbconvert_exporter": "python",
   "pygments_lexer": "ipython3",
   "version": "3.13.7"
  }
 },
 "nbformat": 4,
 "nbformat_minor": 5
}
