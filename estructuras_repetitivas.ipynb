{
 "cells": [
  {
   "cell_type": "markdown",
   "metadata": {},
   "source": [
    "# Estructura repetitivas\n",
    "\n",
    "## funcion range()\n",
    "\n",
    "** sintaxis **\n",
    "\n",
    "1. range(stop)\n",
    "genera una serie de numero 0,1,2,3..., stop -1 \n",
    "\n"
   ]
  },
  {
   "cell_type": "code",
   "execution_count": 4,
   "metadata": {},
   "outputs": [
    {
     "name": "stdout",
     "output_type": "stream",
     "text": [
      "[0, 1, 2, 3, 4, 5]\n"
     ]
    }
   ],
   "source": [
    "print(list(range(6)))"
   ]
  },
  {
   "cell_type": "markdown",
   "metadata": {},
   "source": [
    "2. range(start,stop)\n",
    "\n",
    "[start+1,start+2,...,start+stop-1]\n",
    "\n",
    "Ejemplo:\n",
    "range(1,3)-> 1,2\n",
    "range(20,25) -> 20,21,22,23,24"
   ]
  },
  {
   "cell_type": "code",
   "execution_count": 2,
   "metadata": {},
   "outputs": [
    {
     "name": "stdout",
     "output_type": "stream",
     "text": [
      "[1, 2]\n",
      "[20, 21, 22, 23, 24]\n"
     ]
    }
   ],
   "source": [
    "print(list(range(1,3)))\n",
    "\n",
    "print(list(range(20,25)))"
   ]
  },
  {
   "cell_type": "markdown",
   "metadata": {},
   "source": [
    "3. range(star,stop,step)\n",
    "[satart+step star+step*2,...,star+step*k<stop-1]\n",
    "\n",
    "Ejemplo:\n",
    "range(2,10,3) -> 2,5,8\n",
    "\n",
    "range(2,10,1) -> 2,3,4,5,6,7,8,9\n",
    "\n",
    "range(18,1,-4) -> 18,14,10,6,2"
   ]
  },
  {
   "cell_type": "code",
   "execution_count": 6,
   "metadata": {},
   "outputs": [
    {
     "name": "stdout",
     "output_type": "stream",
     "text": [
      "[2, 5, 8]\n",
      "[2, 3, 4, 5, 6, 7, 8, 9]\n",
      "[18, 14, 10, 6, 2]\n"
     ]
    }
   ],
   "source": [
    "print(list(range(2,10,3)))\n",
    "print(list(range(2,10,1)))\n",
    "print(list(range(18,1,-4)))"
   ]
  },
  {
   "cell_type": "markdown",
   "metadata": {},
   "source": [
    "## cliclos para (for)\n",
    "\n",
    "son una estructura iterativa que repite un bloque de instrucciones cierta cantidad de veces\n",
    "**sintaxis**\n",
    "for var in (range)\n",
    "    #bloque que se quiere repetir\n",
    "Ejemplo escribir un programa que grite \"gol\" 10 vecea"
   ]
  },
  {
   "cell_type": "code",
   "execution_count": null,
   "metadata": {},
   "outputs": [
    {
     "name": "stdout",
     "output_type": "stream",
     "text": [
      "GOL!! * * * GOL!! * * * GOL!! * * * GOL!! * * * GOL!! * * * GOL!! * * * GOL!! * * * GOL!! * * * GOL!! * * * GOL!! * * * "
     ]
    }
   ],
   "source": [
    "for veces in range(10):\n",
    "    print(\"GOL!!\", end=\" * * * \")"
   ]
  },
  {
   "cell_type": "code",
   "execution_count": 15,
   "metadata": {},
   "outputs": [
    {
     "name": "stdout",
     "output_type": "stream",
     "text": [
      "0, 2, 4, 6, 8, 10, 12, 14, 16, 18, 20, 22, 24, "
     ]
    }
   ],
   "source": [
    "## imprimir los numeros pares desde el 0 hasta que indique el usuiaro\n",
    "\n",
    "x=int(input(\"ingrese hasta donde quiere: los pares:\"))\n",
    "\n",
    "for par in range(0,x+1,2):\n",
    "    print(par, end=\", \")\n",
    "      "
   ]
  },
  {
   "cell_type": "code",
   "execution_count": 17,
   "metadata": {},
   "outputs": [
    {
     "name": "stdout",
     "output_type": "stream",
     "text": [
      "1 * 1 = 1\n",
      "1 * 2 = 2\n",
      "1 * 3 = 3\n",
      "1 * 4 = 4\n",
      "1 * 5 = 5\n",
      "1 * 6 = 6\n",
      "1 * 7 = 7\n",
      "1 * 8 = 8\n",
      "1 * 9 = 9\n"
     ]
    }
   ],
   "source": [
    "# Ejemplo:\n",
    "# hacer un programa que imprima la tabla de multiplica, de 1 a 9, de un numero indicado por el usuario\n",
    "\n",
    "num=int(input(\"ingrese el numero:\"))\n",
    "\n",
    "for i in range(1,10):\n",
    "    print(num, \"*\",i,\"=\",i*num)\n"
   ]
  },
  {
   "cell_type": "code",
   "execution_count": null,
   "metadata": {},
   "outputs": [
    {
     "name": "stdout",
     "output_type": "stream",
     "text": [
      "250,000,000,000\n"
     ]
    }
   ],
   "source": [
    "# Ejemplo \n",
    "# calcular la suma del primer millon de numeros\n",
    "  \n",
    "suma = 0 #suma es una variable de tipo acomulador\n",
    "for i in range(1,1_000_001):\n",
    "    suma= suma+i\n",
    "print(\"{:,}\".format(suma))\n",
    "    "
   ]
  },
  {
   "cell_type": "code",
   "execution_count": 21,
   "metadata": {},
   "outputs": [
    {
     "name": "stdout",
     "output_type": "stream",
     "text": [
      "250,000,500,000\n",
      "250,000,500,000\n"
     ]
    }
   ],
   "source": [
    "# Ejemplo \n",
    "# calcular la suma del primer millon de numeros\n",
    "  \n",
    "suma = 0 #suma es una variable de tipo acomulador\n",
    "for i in range(0,1_000_001,2):\n",
    "    suma= suma+i\n",
    "print(\"{:,}\".format(suma))\n",
    "\n",
    "suma = 0 #suma es una variable de tipo acomulador\n",
    "for i in range(0,1_000_001,):\n",
    "    if(i%2==0):\n",
    "        suma= suma+i\n",
    "print(\"{:,}\".format(suma))"
   ]
  },
  {
   "cell_type": "code",
   "execution_count": 3,
   "metadata": {},
   "outputs": [
    {
     "name": "stdout",
     "output_type": "stream",
     "text": [
      "6 ! = 720\n"
     ]
    }
   ],
   "source": [
    "# calular al factorial de un numero\n",
    "# factorial(n)= n! = 1*2*3*4*...*n\n",
    "# factorial(0)= o! =1\n",
    "\n",
    "\n",
    "n=int(input(\"ingrese un numero:\"))\n",
    "\n",
    "if n>0:\n",
    "    fact=1\n",
    "    for i in range(2,n+1):\n",
    "        fact=fact*i\n",
    "    print(n,\"! =\",fact)\n",
    "elif n==0:\n",
    "    print(\"0! = 1\")\n",
    "else:\n",
    "    print(\"no se pudo calcular el factorial por que es invalido el numero\")\n"
   ]
  },
  {
   "cell_type": "code",
   "execution_count": 35,
   "metadata": {},
   "outputs": [
    {
     "name": "stdout",
     "output_type": "stream",
     "text": [
      "1\n",
      "la suma es: 1\n",
      "96\n",
      "la suma es: 97\n",
      "45\n",
      "la suma es: 142\n",
      "12\n",
      "la suma es: 154\n",
      "45\n",
      "la suma es: 199\n"
     ]
    }
   ],
   "source": [
    "# Ejercicio 1:\n",
    "# se requiere un programa para obtener la suma de 5 cantidades .\n",
    "\n",
    "suma= 0\n",
    "\n",
    "for i in range(5):\n",
    "    numero=int(input(\"Escriba un numero:\"))\n",
    "    print(numero)\n",
    "    suma=suma+numero\n",
    "    print(\"la suma es:\", suma)\n",
    "\n",
    "\n"
   ]
  },
  {
   "cell_type": "code",
   "execution_count": null,
   "metadata": {},
   "outputs": [
    {
     "name": "stdout",
     "output_type": "stream",
     "text": [
      "el promedio es 5.0\n"
     ]
    }
   ],
   "source": [
    "# Ejercicio 3:\n",
    "\n",
    "# Desarrolle un programa para obtener el promedio de las notas de 1 a 10 de 4 estudiantes:\n",
    "\n",
    "\n",
    "\n",
    "suma=0\n",
    "\n",
    "\n",
    "for i in range(4):\n",
    "     nota=float(input(\"ingresa su nota\"))\n",
    "     suma=suma+nota\n",
    "promedio=suma/4\n",
    "print(\"el promedio es\", promedio)\n",
    "\n",
    "    \n",
    "\n"
   ]
  },
  {
   "cell_type": "code",
   "execution_count": null,
   "metadata": {},
   "outputs": [
    {
     "name": "stdout",
     "output_type": "stream",
     "text": [
      "el promedio del estudiante 1 es: 5.0\n",
      "el promedio del estudiante 2 es: 3.0\n",
      "el promedio del estudiante 3 es: 2.0\n",
      "el promedio del estudiante 4 es: 4.333333333333333\n",
      "el mejor estudiante es el numero 1 con un promedio de 5.0\n"
     ]
    }
   ],
   "source": [
    "# ejercicio 3:\n",
    "# se requiere un programa para calcular el mejor estudiante de acuerdo con el promedio de sus 3 notas \n",
    "# la cantidad de estudiantes es 4\n",
    "\n",
    "for i in range(4):\n",
    "    suma=0\n",
    "    for n in range(3):\n",
    "        nota=float(input(f\"ingrese la nota {n+1} del estudiante {i+1}:\"))\n",
    "        suma=suma+nota\n",
    "    promedio=suma/3\n",
    "    print(f\"el promedio del estudiante {i+1} es: {promedio}\")\n",
    "    if i==0:\n",
    "        mejor_promedio=promedio\n",
    "        mejor_estudiante=i+1\n",
    "    else:\n",
    "        if promedio>mejor_promedio:\n",
    "            mejor_promedio=promedio\n",
    "            mejor_estudiante=i+1\n",
    "print(f\"el mejor estudiante es el numero {mejor_estudiante} con un promedio de {mejor_promedio}\")\n",
    "    \n",
    "\n",
    "\n",
    "\n"
   ]
  }
 ],
 "metadata": {
  "kernelspec": {
   "display_name": "Python 3",
   "language": "python",
   "name": "python3"
  },
  "language_info": {
   "codemirror_mode": {
    "name": "ipython",
    "version": 3
   },
   "file_extension": ".py",
   "mimetype": "text/x-python",
   "name": "python",
   "nbconvert_exporter": "python",
   "pygments_lexer": "ipython3",
   "version": "3.13.7"
  }
 },
 "nbformat": 4,
 "nbformat_minor": 2
}
